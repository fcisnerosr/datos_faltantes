{
 "cells": [
  {
   "cell_type": "markdown",
   "id": "82790155",
   "metadata": {},
   "source": [
    "### Exploracion de datos faltantes de un restaurante"
   ]
  },
  {
   "cell_type": "code",
   "execution_count": 5,
   "id": "ff2e1797",
   "metadata": {},
   "outputs": [],
   "source": [
    "import janitor\n",
    "import matplotlib.pyplot as plt\n",
    "import missingno\n",
    "import numpy as np\n",
    "import pandas as pd\n",
    "import pyreadr\n",
    "import seaborn as sns\n",
    "import session_info\n",
    "import upsetplot\n",
    "from fs import open_fs\n",
    "from pathlib import Path\n",
    "import shutil # Necesario para la operación de movimiento de archivos\n",
    "import sys\n",
    "from pathlib import Path\n",
    "\n",
    "# This code snippet is used to import a custom Python module named 'pandas_missing_extension.py'\n",
    "# located in the parent directory of the current notebook.\n",
    "# 1. Get the path of the current notebook (where live-exploration-missing-values.ipynb is)\n",
    "#    This will give you something like:\n",
    "#    /home/paco/datos_faltantes/curso-datos-faltantes-main/jupyter/live-exploration-missing-values.ipynb\n",
    "current_notebook_path = Path.cwd() # Path.cwd() returns the current working directory of the kernel\n",
    "\n",
    "# 2. Navigate up one level to find the directory containing 'pandas_missing_extension.py'\n",
    "#    This will give you:\n",
    "#    /home/paco/datos_faltantes/curso-datos-faltantes-main/\n",
    "project_root_dir = current_notebook_path.parent\n",
    "\n",
    "# 3. Add this directory to Python's system path if it's not already there\n",
    "#    This allows Python to find modules in this directory.\n",
    "if str(project_root_dir) not in sys.path:\n",
    "    sys.path.append(str(project_root_dir))\n",
    "    print(f\"Added {project_root_dir} to sys.path\")\n",
    "\n",
    "# 4. Now, import your custom accessor module\n",
    "#    Python will now find 'pandas_missing_extension.py' in the added path.\n",
    "import pandas_missing_extension\n",
    "import warnings\n",
    "\n",
    "# Puedes ser más específico con el tipo de advertencia si lo conoces, por ejemplo:\n",
    "# warnings.filterwarnings(\"ignore\", category=DeprecationWarning)\n",
    "# warnings.filterwarnings(\"ignore\", category=FutureWarning)\n",
    "\n",
    "# Para las advertencias relacionadas con pkg_resources (como las de tu captura):\n",
    "warnings.filterwarnings(\"ignore\", message=\"pkg_resources is deprecated as an API\")\n",
    "warnings.filterwarnings(\"ignore\", message=\"Deprecated call to pkg_resources.declare_namespace\")\n"
   ]
  },
  {
   "cell_type": "markdown",
   "id": "78133d3e",
   "metadata": {},
   "source": [
    "_Carga de datos_"
   ]
  },
  {
   "cell_type": "code",
   "execution_count": 6,
   "id": "54e27dd7",
   "metadata": {},
   "outputs": [
    {
     "name": "stdout",
     "output_type": "stream",
     "text": [
      "Archivo CSV cargado exitosamente.\n",
      "   ID_cliente  Edad Género Frecuencia_visita  Monto_gastado Tipo_pago  \\\n",
      "0         1.0  56.0      M           Semanal     929.686812       NaN   \n",
      "1         2.0  69.0      M           Semanal     179.643252       NaN   \n",
      "2         NaN  46.0      M           Semanal     276.384576   Tarjeta   \n",
      "3         4.0  32.0      M            Diaria     140.704560       App   \n",
      "4         5.0  60.0      F           Semanal     392.797298       App   \n",
      "\n",
      "   Tiempo_espera  Calificación_servicio Plato_favorito Bebida_favorita  \\\n",
      "0           36.0                    3.0          Pasta         Cerveza   \n",
      "1            8.0                    1.0          Pasta        Refresco   \n",
      "2           34.0                    5.0            NaN             NaN   \n",
      "3           41.0                    1.0          Tacos            Agua   \n",
      "4           27.0                    3.0          Pasta         Cerveza   \n",
      "\n",
      "  Recomendó Visitó_fin_de_semana    Propina  Satisfacción Comentario  \\\n",
      "0     False                False  44.842414           5.0      Bueno   \n",
      "1      True                 True  99.445746           6.0       Malo   \n",
      "2      True                False  17.592525           3.0      Bueno   \n",
      "3     False                False        NaN           9.0      Bueno   \n",
      "4     False                False  49.389372           5.0  Excelente   \n",
      "\n",
      "   Tipo_comida Uso_app Promoción_usada Reservación Hora_visita  \n",
      "0    Americana    True             NaN          Sí    Desayuno  \n",
      "1  Vegetariana   False         Ninguna          No         NaN  \n",
      "2          NaN    True             20%          No         NaN  \n",
      "3  Vegetariana   False             10%          No      Comida  \n",
      "4    Americana   False             20%          Sí      Comida  \n"
     ]
    }
   ],
   "source": [
    "# Definir la ruta relativa directamente desde la ubicación del notebook\n",
    "# '../' sube un nivel, 'data/' entra al directorio 'data'\n",
    "csv_file_path = Path(\"../data/Datos_restaurante_con_valores_faltantes.csv\")\n",
    "\n",
    "# Verificar si la ruta del archivo existe (opcional, pero buena práctica)\n",
    "if csv_file_path.exists():\n",
    "    # Leer el archivo CSV en un DataFrame de pandas\n",
    "    df = pd.read_csv(csv_file_path)\n",
    "    print(\"Archivo CSV cargado exitosamente.\")\n",
    "    print(df.head()) # Muestra las primeras filas del DataFrame\n",
    "else:\n",
    "    print(f\"Error: El archivo no se encontró en la ruta: {csv_file_path}\")"
   ]
  },
  {
   "cell_type": "code",
   "execution_count": null,
   "id": "0fc587aa",
   "metadata": {},
   "outputs": [],
   "source": []
  }
 ],
 "metadata": {
  "kernelspec": {
   "display_name": "datos_faltantes",
   "language": "python",
   "name": "python3"
  },
  "language_info": {
   "codemirror_mode": {
    "name": "ipython",
    "version": 3
   },
   "file_extension": ".py",
   "mimetype": "text/x-python",
   "name": "python",
   "nbconvert_exporter": "python",
   "pygments_lexer": "ipython3",
   "version": "3.9.23"
  }
 },
 "nbformat": 4,
 "nbformat_minor": 5
}
