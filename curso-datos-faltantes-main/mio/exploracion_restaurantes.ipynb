{
 "cells": [
  {
   "cell_type": "markdown",
   "id": "82790155",
   "metadata": {},
   "source": [
    "### Exploracion de datos faltantes de un restaurante"
   ]
  },
  {
   "cell_type": "code",
   "execution_count": 2,
   "id": "ff2e1797",
   "metadata": {},
   "outputs": [],
   "source": [
    "import janitor\n",
    "import matplotlib.pyplot as plt\n",
    "import missingno\n",
    "import numpy as np\n",
    "import pandas as pd\n",
    "import pyreadr\n",
    "import seaborn as sns\n",
    "import session_info\n",
    "import upsetplot\n",
    "from fs import open_fs\n",
    "from pathlib import Path\n",
    "import shutil # Necesario para la operación de movimiento de archivos\n",
    "import sys\n",
    "from pathlib import Path\n",
    "\n",
    "# This code snippet is used to import a custom Python module named 'pandas_missing_extension.py'\n",
    "# located in the parent directory of the current notebook.\n",
    "# 1. Get the path of the current notebook (where live-exploration-missing-values.ipynb is)\n",
    "#    This will give you something like:\n",
    "#    /home/paco/datos_faltantes/curso-datos-faltantes-main/jupyter/live-exploration-missing-values.ipynb\n",
    "current_notebook_path = Path.cwd() # Path.cwd() returns the current working directory of the kernel\n",
    "\n",
    "# 2. Navigate up one level to find the directory containing 'pandas_missing_extension.py'\n",
    "#    This will give you:\n",
    "#    /home/paco/datos_faltantes/curso-datos-faltantes-main/\n",
    "project_root_dir = current_notebook_path.parent\n",
    "\n",
    "# 3. Add this directory to Python's system path if it's not already there\n",
    "#    This allows Python to find modules in this directory.\n",
    "if str(project_root_dir) not in sys.path:\n",
    "    sys.path.append(str(project_root_dir))\n",
    "    print(f\"Added {project_root_dir} to sys.path\")\n",
    "\n",
    "# 4. Now, import your custom accessor module\n",
    "#    Python will now find 'pandas_missing_extension.py' in the added path.\n",
    "import pandas_missing_extension\n",
    "import warnings\n",
    "\n",
    "# Puedes ser más específico con el tipo de advertencia si lo conoces, por ejemplo:\n",
    "# warnings.filterwarnings(\"ignore\", category=DeprecationWarning)\n",
    "# warnings.filterwarnings(\"ignore\", category=FutureWarning)\n",
    "\n",
    "# Para las advertencias relacionadas con pkg_resources (como las de tu captura):\n",
    "warnings.filterwarnings(\"ignore\", message=\"pkg_resources is deprecated as an API\")\n",
    "warnings.filterwarnings(\"ignore\", message=\"Deprecated call to pkg_resources.declare_namespace\")\n"
   ]
  },
  {
   "cell_type": "markdown",
   "id": "78133d3e",
   "metadata": {},
   "source": [
    "_Carga de datos_"
   ]
  },
  {
   "cell_type": "code",
   "execution_count": null,
   "id": "5fa23ad5",
   "metadata": {},
   "outputs": [],
   "source": []
  }
 ],
 "metadata": {
  "kernelspec": {
   "display_name": "datos_faltantes",
   "language": "python",
   "name": "python3"
  },
  "language_info": {
   "codemirror_mode": {
    "name": "ipython",
    "version": 3
   },
   "file_extension": ".py",
   "mimetype": "text/x-python",
   "name": "python",
   "nbconvert_exporter": "python",
   "pygments_lexer": "ipython3",
   "version": "3.9.23"
  }
 },
 "nbformat": 4,
 "nbformat_minor": 5
}
