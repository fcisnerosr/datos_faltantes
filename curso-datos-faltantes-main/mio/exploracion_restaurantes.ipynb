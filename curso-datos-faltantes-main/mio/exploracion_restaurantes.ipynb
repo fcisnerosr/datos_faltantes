{
 "cells": [
  {
   "cell_type": "markdown",
   "id": "82790155",
   "metadata": {},
   "source": [
    "### Exploracion de datos faltantes de un restaurante"
   ]
  },
  {
   "cell_type": "code",
   "execution_count": 1,
   "id": "ff2e1797",
   "metadata": {},
   "outputs": [
    {
     "name": "stdout",
     "output_type": "stream",
     "text": [
      "Added /home/paco/datos_faltantes/curso-datos-faltantes-main to sys.path\n"
     ]
    },
    {
     "name": "stderr",
     "output_type": "stream",
     "text": [
      "/home/paco/miniforge3/envs/datos_faltantes/lib/python3.9/site-packages/fs/__init__.py:4: UserWarning: pkg_resources is deprecated as an API. See https://setuptools.pypa.io/en/latest/pkg_resources.html. The pkg_resources package is slated for removal as early as 2025-11-30. Refrain from using this package or pin to Setuptools<81.\n",
      "  __import__(\"pkg_resources\").declare_namespace(__name__)  # type: ignore\n",
      "/home/paco/miniforge3/envs/datos_faltantes/lib/python3.9/site-packages/pkg_resources/__init__.py:3146: DeprecationWarning: Deprecated call to `pkg_resources.declare_namespace('mpl_toolkits')`.\n",
      "Implementing implicit namespace packages (as specified in PEP 420) is preferred to `pkg_resources.declare_namespace`. See https://setuptools.pypa.io/en/latest/references/keywords.html#keyword-namespace-packages\n",
      "  declare_namespace(pkg)\n",
      "/home/paco/miniforge3/envs/datos_faltantes/lib/python3.9/site-packages/fs/__init__.py:4: DeprecationWarning: Deprecated call to `pkg_resources.declare_namespace('fs')`.\n",
      "Implementing implicit namespace packages (as specified in PEP 420) is preferred to `pkg_resources.declare_namespace`. See https://setuptools.pypa.io/en/latest/references/keywords.html#keyword-namespace-packages\n",
      "  __import__(\"pkg_resources\").declare_namespace(__name__)  # type: ignore\n",
      "/home/paco/miniforge3/envs/datos_faltantes/lib/python3.9/site-packages/fs/opener/__init__.py:6: DeprecationWarning: Deprecated call to `pkg_resources.declare_namespace('fs.opener')`.\n",
      "Implementing implicit namespace packages (as specified in PEP 420) is preferred to `pkg_resources.declare_namespace`. See https://setuptools.pypa.io/en/latest/references/keywords.html#keyword-namespace-packages\n",
      "  __import__(\"pkg_resources\").declare_namespace(__name__)  # type: ignore\n",
      "/home/paco/miniforge3/envs/datos_faltantes/lib/python3.9/site-packages/pkg_resources/__init__.py:2558: DeprecationWarning: Deprecated call to `pkg_resources.declare_namespace('fs')`.\n",
      "Implementing implicit namespace packages (as specified in PEP 420) is preferred to `pkg_resources.declare_namespace`. See https://setuptools.pypa.io/en/latest/references/keywords.html#keyword-namespace-packages\n",
      "  declare_namespace(parent)\n"
     ]
    }
   ],
   "source": [
    "import janitor\n",
    "import matplotlib.pyplot as plt\n",
    "import missingno\n",
    "import numpy as np\n",
    "import pandas as pd\n",
    "import pyreadr\n",
    "import seaborn as sns\n",
    "import session_info\n",
    "import upsetplot\n",
    "from fs import open_fs\n",
    "from pathlib import Path\n",
    "import shutil # Necesario para la operación de movimiento de archivos\n",
    "import sys\n",
    "from pathlib import Path\n",
    "\n",
    "# This code snippet is used to import a custom Python module named 'pandas_missing_extension.py'\n",
    "# located in the parent directory of the current notebook.\n",
    "# 1. Get the path of the current notebook (where live-exploration-missing-values.ipynb is)\n",
    "#    This will give you something like:\n",
    "#    /home/paco/datos_faltantes/curso-datos-faltantes-main/jupyter/live-exploration-missing-values.ipynb\n",
    "current_notebook_path = Path.cwd() # Path.cwd() returns the current working directory of the kernel\n",
    "\n",
    "# 2. Navigate up one level to find the directory containing 'pandas_missing_extension.py'\n",
    "#    This will give you:\n",
    "#    /home/paco/datos_faltantes/curso-datos-faltantes-main/\n",
    "project_root_dir = current_notebook_path.parent\n",
    "\n",
    "# 3. Add this directory to Python's system path if it's not already there\n",
    "#    This allows Python to find modules in this directory.\n",
    "if str(project_root_dir) not in sys.path:\n",
    "    sys.path.append(str(project_root_dir))\n",
    "    print(f\"Added {project_root_dir} to sys.path\")\n",
    "\n",
    "# 4. Now, import your custom accessor module\n",
    "#    Python will now find 'pandas_missing_extension.py' in the added path.\n",
    "import pandas_missing_extension"
   ]
  },
  {
   "cell_type": "markdown",
   "id": "78133d3e",
   "metadata": {},
   "source": [
    "_Carga de datos_"
   ]
  },
  {
   "cell_type": "code",
   "execution_count": null,
   "id": "5fa23ad5",
   "metadata": {},
   "outputs": [],
   "source": []
  }
 ],
 "metadata": {
  "kernelspec": {
   "display_name": "datos_faltantes",
   "language": "python",
   "name": "python3"
  },
  "language_info": {
   "codemirror_mode": {
    "name": "ipython",
    "version": 3
   },
   "file_extension": ".py",
   "mimetype": "text/x-python",
   "name": "python",
   "nbconvert_exporter": "python",
   "pygments_lexer": "ipython3",
   "version": "3.9.23"
  }
 },
 "nbformat": 4,
 "nbformat_minor": 5
}
