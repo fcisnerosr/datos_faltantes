{
 "cells": [
  {
   "cell_type": "markdown",
   "id": "e9bd71a6",
   "metadata": {},
   "source": [
    "# Mecanismos de datos faltantes"
   ]
  },
  {
   "cell_type": "markdown",
   "id": "c6c6c4a8",
   "metadata": {},
   "source": [
    "### **_Importación de librerías_**"
   ]
  },
  {
   "cell_type": "code",
   "execution_count": 1,
   "id": "4ea8c36f",
   "metadata": {},
   "outputs": [],
   "source": [
    "import janitor\n",
    "import pandas as pd\n",
    "import pandas_missing_extension_\n",
    "import numpy as np"
   ]
  },
  {
   "cell_type": "markdown",
   "id": "56664344",
   "metadata": {},
   "source": [
    "_Lectura de csv_"
   ]
  },
  {
   "cell_type": "code",
   "execution_count": 2,
   "id": "877825b1",
   "metadata": {},
   "outputs": [],
   "source": [
    "df = pd.read_csv('datos.csv')"
   ]
  },
  {
   "cell_type": "markdown",
   "id": "e9a400be",
   "metadata": {},
   "source": [
    "_Estandarización de datos faltantes_"
   ]
  },
  {
   "cell_type": "code",
   "execution_count": 8,
   "id": "7eba4a52",
   "metadata": {},
   "outputs": [],
   "source": [
    "df.replace(['desconocido','-999','na'], np.nan, inplace=True)"
   ]
  },
  {
   "cell_type": "code",
   "execution_count": 10,
   "id": "b2b7b3b5",
   "metadata": {},
   "outputs": [
    {
     "name": "stdout",
     "output_type": "stream",
     "text": [
      "    id_estudiante tipo_escuela   asignatura horas_estudio_semanales  \\\n",
      "0               1      Pública  Matemáticas                     NaN   \n",
      "1               1      Pública     Ciencias                       8   \n",
      "2               2      Privada  Matemáticas                      10   \n",
      "3               2      Privada     Ciencias                       7   \n",
      "4               3      Pública  Matemáticas                       5   \n",
      "5               3      Pública     Ciencias                     NaN   \n",
      "6               4      Privada  Matemáticas                      12   \n",
      "7               4      Privada     Ciencias                     NaN   \n",
      "8               5      Privada  Matemáticas                      15   \n",
      "9               6      Pública  Matemáticas                     NaN   \n",
      "10              6      Pública     Ciencias                       4   \n",
      "11              7      Pública  Matemáticas                       6   \n",
      "12              7      Pública     Ciencias                       5   \n",
      "13              8      Privada     Ciencias                       9   \n",
      "14              9      Pública  Matemáticas                       3   \n",
      "15              9      Pública     Ciencias                     NaN   \n",
      "16             10      Privada  Matemáticas                      11   \n",
      "17             10      Privada     Ciencias                       8   \n",
      "\n",
      "    calificacion_final  satisfaccion_curso  \n",
      "0                  NaN                 5.0  \n",
      "1                 75.0                 4.0  \n",
      "2                 92.0                 NaN  \n",
      "3                 88.0                 4.0  \n",
      "4                 65.0                 3.0  \n",
      "5                 72.0                 3.0  \n",
      "6                 95.0                 5.0  \n",
      "7                 89.0                 5.0  \n",
      "8                 98.0                 5.0  \n",
      "9                 55.0                 2.0  \n",
      "10                 NaN                 2.0  \n",
      "11                 NaN                 3.0  \n",
      "12                70.0                 4.0  \n",
      "13                91.0                 4.0  \n",
      "14                58.0                 2.0  \n",
      "15                62.0                 3.0  \n",
      "16                90.0                 5.0  \n",
      "17                85.0                 NaN  \n"
     ]
    }
   ],
   "source": [
    "print(df)"
   ]
  },
  {
   "cell_type": "markdown",
   "id": "bc744710",
   "metadata": {},
   "source": [
    "_Conversión de datos faltantes implícitos a explícitos_"
   ]
  },
  {
   "cell_type": "code",
   "execution_count": 22,
   "id": "b8a960f9",
   "metadata": {},
   "outputs": [
    {
     "name": "stdout",
     "output_type": "stream",
     "text": [
      "   id_estudiante  Ciencias  Matemáticas\n",
      "0              1      75.0          NaN\n",
      "1              2      88.0         92.0\n",
      "2              3      72.0         65.0\n",
      "3              4      89.0         95.0\n",
      "4              5       NaN         98.0\n",
      "5              6       NaN         55.0\n",
      "6              7      70.0          NaN\n",
      "7              8      91.0          NaN\n",
      "8              9      62.0         58.0\n",
      "9             10      85.0         90.0\n"
     ]
    },
    {
     "name": "stderr",
     "output_type": "stream",
     "text": [
      "/home/fcisnerosr/miniforge3/envs/datos_faltantes/lib/python3.9/site-packages/pandas_flavor/register.py:164: FutureWarning: This function will be deprecated in a 1.x release. Please use `pd.DataFrame.pivot` instead.\n",
      "  return method(self._obj, *args, **kwargs)\n"
     ]
    }
   ],
   "source": [
    "df_wide = (\n",
    "    df.pivot_wider(\n",
    "        index = 'id_estudiante',\n",
    "        names_from = 'asignatura',\n",
    "        values_from = 'calificacion_final'\n",
    "    )\n",
    ")\n",
    "print(df_wide)"
   ]
  }
 ],
 "metadata": {
  "kernelspec": {
   "display_name": "datos_faltantes",
   "language": "python",
   "name": "python3"
  },
  "language_info": {
   "codemirror_mode": {
    "name": "ipython",
    "version": 3
   },
   "file_extension": ".py",
   "mimetype": "text/x-python",
   "name": "python",
   "nbconvert_exporter": "python",
   "pygments_lexer": "ipython3",
   "version": "3.9.23"
  }
 },
 "nbformat": 4,
 "nbformat_minor": 5
}
