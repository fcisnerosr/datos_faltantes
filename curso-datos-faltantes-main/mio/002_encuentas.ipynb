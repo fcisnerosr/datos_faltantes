{
 "cells": [
  {
   "cell_type": "code",
   "execution_count": 1,
   "id": "4136d5fd",
   "metadata": {},
   "outputs": [
    {
     "name": "stdout",
     "output_type": "stream",
     "text": [
      "Added /home/fcisnerosr/datos_faltantes/curso-datos-faltantes-main to sys.path\n"
     ]
    },
    {
     "name": "stderr",
     "output_type": "stream",
     "text": [
      "/home/fcisnerosr/miniforge3/envs/datos_faltantes/lib/python3.9/site-packages/fs/__init__.py:4: UserWarning: pkg_resources is deprecated as an API. See https://setuptools.pypa.io/en/latest/pkg_resources.html. The pkg_resources package is slated for removal as early as 2025-11-30. Refrain from using this package or pin to Setuptools<81.\n",
      "  __import__(\"pkg_resources\").declare_namespace(__name__)  # type: ignore\n",
      "/home/fcisnerosr/miniforge3/envs/datos_faltantes/lib/python3.9/site-packages/pkg_resources/__init__.py:3146: DeprecationWarning: Deprecated call to `pkg_resources.declare_namespace('mpl_toolkits')`.\n",
      "Implementing implicit namespace packages (as specified in PEP 420) is preferred to `pkg_resources.declare_namespace`. See https://setuptools.pypa.io/en/latest/references/keywords.html#keyword-namespace-packages\n",
      "  declare_namespace(pkg)\n",
      "/home/fcisnerosr/miniforge3/envs/datos_faltantes/lib/python3.9/site-packages/fs/__init__.py:4: DeprecationWarning: Deprecated call to `pkg_resources.declare_namespace('fs')`.\n",
      "Implementing implicit namespace packages (as specified in PEP 420) is preferred to `pkg_resources.declare_namespace`. See https://setuptools.pypa.io/en/latest/references/keywords.html#keyword-namespace-packages\n",
      "  __import__(\"pkg_resources\").declare_namespace(__name__)  # type: ignore\n",
      "/home/fcisnerosr/miniforge3/envs/datos_faltantes/lib/python3.9/site-packages/fs/opener/__init__.py:6: DeprecationWarning: Deprecated call to `pkg_resources.declare_namespace('fs.opener')`.\n",
      "Implementing implicit namespace packages (as specified in PEP 420) is preferred to `pkg_resources.declare_namespace`. See https://setuptools.pypa.io/en/latest/references/keywords.html#keyword-namespace-packages\n",
      "  __import__(\"pkg_resources\").declare_namespace(__name__)  # type: ignore\n",
      "/home/fcisnerosr/miniforge3/envs/datos_faltantes/lib/python3.9/site-packages/pkg_resources/__init__.py:2558: DeprecationWarning: Deprecated call to `pkg_resources.declare_namespace('fs')`.\n",
      "Implementing implicit namespace packages (as specified in PEP 420) is preferred to `pkg_resources.declare_namespace`. See https://setuptools.pypa.io/en/latest/references/keywords.html#keyword-namespace-packages\n",
      "  declare_namespace(parent)\n"
     ]
    }
   ],
   "source": [
    "import janitor\n",
    "import matplotlib.pyplot as plt\n",
    "import missingno\n",
    "import numpy as np\n",
    "import pandas as pd\n",
    "import pyreadr\n",
    "import seaborn as sns\n",
    "import session_info\n",
    "import upsetplot\n",
    "import random\n",
    "from fs import open_fs\n",
    "from pathlib import Path\n",
    "import shutil # Necesario para la operación de movimiento de archivos\n",
    "import sys\n",
    "from pathlib import Path\n",
    "\n",
    "# This code snippet is used to import a custom Python module named 'pandas_missing_extension.py'\n",
    "# located in the parent directory of the current notebook.\n",
    "# 1. Get the path of the current notebook (where live-exploration-missing-values.ipynb is)\n",
    "#    This will give you something like:\n",
    "#    /home/paco/datos_faltantes/curso-datos-faltantes-main/jupyter/live-exploration-missing-values.ipynb\n",
    "current_notebook_path = Path.cwd() # Path.cwd() returns the current working directory of the kernel\n",
    "\n",
    "# 2. Navigate up one level to find the directory containing 'pandas_missing_extension.py'\n",
    "#    This will give you:\n",
    "#    /home/paco/datos_faltantes/curso-datos-faltantes-main/\n",
    "project_root_dir = current_notebook_path.parent\n",
    "\n",
    "# 3. Add this directory to Python's system path if it's not already there\n",
    "#    This allows Python to find modules in this directory.\n",
    "if str(project_root_dir) not in sys.path:\n",
    "    sys.path.append(str(project_root_dir))\n",
    "    print(f\"Added {project_root_dir} to sys.path\")\n",
    "\n",
    "# 4. Now, import your custom accessor module\n",
    "#    Python will now find 'pandas_missing_extension.py' in the added path.\n",
    "import pandas_missing_extension\n",
    "import warnings\n",
    "\n",
    "# Puedes ser más específico con el tipo de advertencia si lo conoces, por ejemplo:\n",
    "# warnings.filterwarnings(\"ignore\", category=DeprecationWarning)\n",
    "# warnings.filterwarnings(\"ignore\", category=FutureWarning)\n",
    "\n",
    "# Para las advertencias relacionadas con pkg_resources (como las de tu captura):\n",
    "warnings.filterwarnings(\"ignore\", message=\"pkg_resources is deprecated as an API\")\n",
    "warnings.filterwarnings(\"ignore\", message=\"Deprecated call to pkg_resources.declare_namespace\")"
   ]
  },
  {
   "cell_type": "markdown",
   "id": "8f6c2fbe",
   "metadata": {},
   "source": [
    "_Importación de librería de datos faltantes_"
   ]
  },
  {
   "cell_type": "code",
   "execution_count": 2,
   "id": "38b8c240",
   "metadata": {},
   "outputs": [
    {
     "name": "stdout",
     "output_type": "stream",
     "text": [
      "Módulo 'pandas_missing_entention.py' importado exitosamente.\n"
     ]
    }
   ],
   "source": [
    "# Obtener la ruta del directorio del notebook como un objeto Path\n",
    "notebook_path = Path.cwd() # O Path(__file__).parent si esto fuera un script .py\n",
    "# En Jupyter, Path.cwd() suele apuntar al directorio del notebook.\n",
    "\n",
    "# Obtener la ruta del directorio padre\n",
    "parent_dir_pathlib = notebook_path.parent\n",
    "\n",
    "# # Añadir el directorio padre al sys.path\n",
    "# # sys.path necesita strings, así que convertimos el objeto Path a string\n",
    "# if str(parent_dir_pathlib) not in sys.path:\n",
    "#     print(sys.path.append(str(parent_dir_pathlib)))\n",
    "#     print('hola')\n",
    "\n",
    "\n",
    "# --- Ahora que el directorio padre está en sys.path, puedes importar tu archivo ---\n",
    "# El nombre del archivo debe ser el nombre del módulo (sin la extensión .py)\n",
    "try:\n",
    "    import pandas_missing_extension # Nota: sin la extensión .py\n",
    "    print(\"Módulo 'pandas_missing_entention.py' importado exitosamente.\")\n",
    "\n",
    "    # Si tu archivo tiene funciones, clases, etc., puedes acceder a ellas así:\n",
    "    # from pandas_missing_entention import mi_funcion_util\n",
    "    # resultado = mi_funcion_util(df)\n",
    "\n",
    "except ImportError:\n",
    "    print(\"Error: No se pudo importar el módulo 'pandas_missing_entention.py'.\")\n",
    "    print(\"Verifica que el nombre del archivo sea correcto y que la ruta al directorio padre se haya añadido correctamente.\")\n",
    "    print(f\"sys.path actual: {sys.path}\")"
   ]
  },
  {
   "cell_type": "code",
   "execution_count": 3,
   "id": "136c14c7",
   "metadata": {},
   "outputs": [],
   "source": [
    "# --- DataFrame para practicar graficación de datos faltantes ---\n",
    "\n",
    "# Crear datos base\n",
    "num_participantes = 100\n",
    "generos = ['Hombre', 'Mujer', 'Otro']\n",
    "ciudades = ['Ciudad A', 'Ciudad B', 'Ciudad C', 'Ciudad D']\n",
    "niveles_educacion = ['Primaria', 'Secundaria', 'Universidad', 'Posgrado']\n",
    "\n",
    "data = {\n",
    "    'ID_Participante': range(1, num_participantes + 1),\n",
    "    'Genero': random.choices(generos, weights=[0.45, 0.45, 0.10], k=num_participantes),\n",
    "    'Ciudad': random.choices(ciudades, weights=[0.25, 0.30, 0.20, 0.25], k=num_participantes),\n",
    "    'Nivel_Educacion': random.choices(niveles_educacion, weights=[0.1, 0.2, 0.4, 0.3], k=num_participantes),\n",
    "    'Edad_Exacta': [random.randint(18, 70) for _ in range(num_participantes)],\n",
    "    'Ingresos_Mensuales': [random.randint(20000, 150000) for _ in range(num_participantes)],\n",
    "    'Opinion_Controversial': [random.choice(['A Favor', 'En Contra', 'Indeciso', np.nan]) for _ in range(num_participantes)],\n",
    "    'Horas_Trabajadas_Semana': [random.randint(20, 60) for _ in range(num_participantes)],\n",
    "    'Frecuencia_Ejercicio': [random.choice(['Diario', 'Semanal', 'Mensual', 'Nunca']) for _ in range(num_participantes)]\n",
    "}"
   ]
  },
  {
   "cell_type": "code",
   "execution_count": 4,
   "id": "beff8c1b",
   "metadata": {},
   "outputs": [],
   "source": [
    "df_encuesta = pd.DataFrame(data)"
   ]
  },
  {
   "cell_type": "code",
   "execution_count": 5,
   "id": "b7c675be",
   "metadata": {},
   "outputs": [
    {
     "name": "stdout",
     "output_type": "stream",
     "text": [
      "DataFrame guardado exitosamente en: /home/fcisnerosr/datos_faltantes/curso-datos-faltantes-main/mio/mi_dataframe_encuesta.csv\n"
     ]
    }
   ],
   "source": [
    "# 2. Obtener la ruta del directorio de trabajo actual (Current Working Directory - CWD)\n",
    "# Path.cwd() devuelve un objeto Path que representa el CWD.\n",
    "directorio_actual = Path.cwd()\n",
    "\n",
    "# 3. Definir el nombre del archivo CSV\n",
    "nombre_archivo = \"mi_dataframe_encuesta.csv\"\n",
    "\n",
    "# 4. Combinar la ruta del directorio actual con el nombre del archivo\n",
    "# El operador / de pathlib es ideal para esto\n",
    "ruta_completa_csv = directorio_actual / nombre_archivo\n",
    "\n",
    "# 5. Guardar el DataFrame a CSV\n",
    "# index=False es crucial para no guardar el índice del DataFrame como una columna en el CSV\n",
    "df_encuesta.to_csv(ruta_completa_csv, index=False)\n",
    "\n",
    "print(f\"DataFrame guardado exitosamente en: {ruta_completa_csv}\")"
   ]
  },
  {
   "cell_type": "markdown",
   "id": "7ee7d82f",
   "metadata": {},
   "source": [
    "_Información de datos faltantes_"
   ]
  },
  {
   "cell_type": "code",
   "execution_count": 13,
   "id": "fad3b188",
   "metadata": {},
   "outputs": [
    {
     "data": {
      "text/html": [
       "<div>\n",
       "<style scoped>\n",
       "    .dataframe tbody tr th:only-of-type {\n",
       "        vertical-align: middle;\n",
       "    }\n",
       "\n",
       "    .dataframe tbody tr th {\n",
       "        vertical-align: top;\n",
       "    }\n",
       "\n",
       "    .dataframe thead th {\n",
       "        text-align: right;\n",
       "    }\n",
       "</style>\n",
       "<table border=\"1\" class=\"dataframe\">\n",
       "  <thead>\n",
       "    <tr style=\"text-align: right;\">\n",
       "      <th></th>\n",
       "      <th>variable</th>\n",
       "      <th>n_missing</th>\n",
       "      <th>n_cases</th>\n",
       "      <th>pct_missing</th>\n",
       "    </tr>\n",
       "  </thead>\n",
       "  <tbody>\n",
       "    <tr>\n",
       "      <th>0</th>\n",
       "      <td>ID_Participante</td>\n",
       "      <td>0</td>\n",
       "      <td>100</td>\n",
       "      <td>0.0</td>\n",
       "    </tr>\n",
       "    <tr>\n",
       "      <th>1</th>\n",
       "      <td>Genero</td>\n",
       "      <td>0</td>\n",
       "      <td>100</td>\n",
       "      <td>0.0</td>\n",
       "    </tr>\n",
       "    <tr>\n",
       "      <th>2</th>\n",
       "      <td>Ciudad</td>\n",
       "      <td>0</td>\n",
       "      <td>100</td>\n",
       "      <td>0.0</td>\n",
       "    </tr>\n",
       "    <tr>\n",
       "      <th>3</th>\n",
       "      <td>Nivel_Educacion</td>\n",
       "      <td>0</td>\n",
       "      <td>100</td>\n",
       "      <td>0.0</td>\n",
       "    </tr>\n",
       "    <tr>\n",
       "      <th>4</th>\n",
       "      <td>Edad_Exacta</td>\n",
       "      <td>0</td>\n",
       "      <td>100</td>\n",
       "      <td>0.0</td>\n",
       "    </tr>\n",
       "    <tr>\n",
       "      <th>5</th>\n",
       "      <td>Ingresos_Mensuales</td>\n",
       "      <td>0</td>\n",
       "      <td>100</td>\n",
       "      <td>0.0</td>\n",
       "    </tr>\n",
       "    <tr>\n",
       "      <th>6</th>\n",
       "      <td>Opinion_Controversial</td>\n",
       "      <td>29</td>\n",
       "      <td>100</td>\n",
       "      <td>29.0</td>\n",
       "    </tr>\n",
       "    <tr>\n",
       "      <th>7</th>\n",
       "      <td>Horas_Trabajadas_Semana</td>\n",
       "      <td>0</td>\n",
       "      <td>100</td>\n",
       "      <td>0.0</td>\n",
       "    </tr>\n",
       "    <tr>\n",
       "      <th>8</th>\n",
       "      <td>Frecuencia_Ejercicio</td>\n",
       "      <td>0</td>\n",
       "      <td>100</td>\n",
       "      <td>0.0</td>\n",
       "    </tr>\n",
       "  </tbody>\n",
       "</table>\n",
       "</div>"
      ],
      "text/plain": [
       "                  variable  n_missing  n_cases  pct_missing\n",
       "0          ID_Participante          0      100          0.0\n",
       "1                   Genero          0      100          0.0\n",
       "2                   Ciudad          0      100          0.0\n",
       "3          Nivel_Educacion          0      100          0.0\n",
       "4              Edad_Exacta          0      100          0.0\n",
       "5       Ingresos_Mensuales          0      100          0.0\n",
       "6    Opinion_Controversial         29      100         29.0\n",
       "7  Horas_Trabajadas_Semana          0      100          0.0\n",
       "8     Frecuencia_Ejercicio          0      100          0.0"
      ]
     },
     "execution_count": 13,
     "metadata": {},
     "output_type": "execute_result"
    }
   ],
   "source": [
    "df_encuesta.shape\n",
    "df_encuesta.missing.number_complete()\n",
    "df_encuesta.missing.number_missing()\n",
    "df_encuesta.missing.missing_variable_summary()"
   ]
  }
 ],
 "metadata": {
  "kernelspec": {
   "display_name": "datos_faltantes",
   "language": "python",
   "name": "python3"
  },
  "language_info": {
   "codemirror_mode": {
    "name": "ipython",
    "version": 3
   },
   "file_extension": ".py",
   "mimetype": "text/x-python",
   "name": "python",
   "nbconvert_exporter": "python",
   "pygments_lexer": "ipython3",
   "version": "3.9.23"
  }
 },
 "nbformat": 4,
 "nbformat_minor": 5
}
