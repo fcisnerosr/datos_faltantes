{
 "cells": [
  {
   "cell_type": "markdown",
   "metadata": {
    "cell_id": "7c82e43ecd9a417f8c34de8d062e772b",
    "deepnote_app_coordinates": {
     "h": 5,
     "w": 12,
     "x": 0,
     "y": 13
    },
    "deepnote_cell_type": "markdown",
    "owner_user_id": "bc32f83c-a807-4a78-8769-dff22df5fe36",
    "tags": []
   },
   "source": [
    "## Configuración de ambiente de trabajo"
   ]
  },
  {
   "cell_type": "markdown",
   "metadata": {
    "cell_id": "f4ffad1587524a1991aaf4f6fdf560dc",
    "deepnote_app_coordinates": {
     "h": 5,
     "w": 12,
     "x": 0,
     "y": 19
    },
    "deepnote_cell_type": "markdown",
    "tags": []
   },
   "source": [
    "```bash\n",
    "pip install --upgrade pip\n",
    "```"
   ]
  },
  {
   "cell_type": "markdown",
   "metadata": {
    "cell_id": "dab74e66ab3b4030887ebfcc4da6eb27",
    "deepnote_app_coordinates": {
     "h": 5,
     "w": 12,
     "x": 0,
     "y": 25
    },
    "deepnote_cell_type": "markdown",
    "tags": []
   },
   "source": [
    "```bash\n",
    "pip install pyjanitor matplotlib==3.5.1 missingno numpy pandas pyreadr seaborn session-info upsetplot==0.6.1\n",
    "```\n",
    "\n",
    "or \n",
    "\n",
    "```bash\n",
    "pip install -r requirements.txt\n",
    "```"
   ]
  },
  {
   "cell_type": "markdown",
   "metadata": {
    "cell_id": "849fe72dd0be49798c77489e1951604e",
    "deepnote_app_coordinates": {
     "h": 5,
     "w": 12,
     "x": 0,
     "y": 31
    },
    "deepnote_cell_type": "markdown",
    "tags": []
   },
   "source": [
    "### Importar librerías"
   ]
  },
  {
   "cell_type": "code",
   "execution_count": null,
   "metadata": {
    "cell_id": "75b2627383ca4b1ba27ee97d5abb42ea",
    "deepnote_app_coordinates": {
     "h": 5,
     "w": 12,
     "x": 0,
     "y": 37
    },
    "deepnote_cell_type": "code",
    "deepnote_to_be_reexecuted": false,
    "execution_millis": 1,
    "execution_start": 1659569213615,
    "output_cleared": true,
    "source_hash": "32e1477e",
    "tags": []
   },
   "outputs": [],
   "source": [
    "import janitor\n",
    "import matplotlib.pyplot as plt\n",
    "import missingno\n",
    "import numpy as np\n",
    "import pandas as pd\n",
    "import pyreadr\n",
    "import seaborn as sns\n",
    "import session_info\n",
    "import upsetplot\n",
    "from fs import open_fs\n",
    "from pathlib import Path\n",
    "import shutil # Necesario para la operación de movimiento de archivos\n",
    "import sys\n",
    "import warnings\n",
    "# Puedes ser más específico con el tipo de advertencia si lo conoces, por ejemplo:\n",
    "# warnings.filterwarnings(\"ignore\", category=DeprecationWarning)\n",
    "# warnings.filterwarnings(\"ignore\", category=FutureWarning)\n",
    "\n",
    "# Para las advertencias relacionadas con pkg_resources (como las de tu captura):\n",
    "warnings.filterwarnings(\"ignore\", message=\"pkg_resources is deprecated as an API\")\n",
    "warnings.filterwarnings(\"ignore\", message=\"Deprecated call to pkg_resources.declare_namespace\")\n",
    "\n",
    "from pathlib import Path\n",
    "\n",
    "# This code snippet is used to import a custom Python module named 'pandas_missing_extension.py'\n",
    "# located in the parent directory of the current notebook.\n",
    "# 1. Get the path of the current notebook (where live-exploration-missing-values.ipynb is)\n",
    "#    This will give you something like:\n",
    "#    /home/paco/datos_faltantes/curso-datos-faltantes-main/jupyter/live-exploration-missing-values.ipynb\n",
    "current_notebook_path = Path.cwd() # Path.cwd() returns the current working directory of the kernel\n",
    "\n",
    "# 2. Navigate up one level to find the directory containing 'pandas_missing_extension.py'\n",
    "#    This will give you:\n",
    "#    /home/paco/datos_faltantes/curso-datos-faltantes-main/\n",
    "project_root_dir = current_notebook_path.parent\n",
    "\n",
    "# 3. Add this directory to Python's system path if it's not already there\n",
    "#    This allows Python to find modules in this directory.\n",
    "if str(project_root_dir) not in sys.path:\n",
    "    sys.path.append(str(project_root_dir))\n",
    "    print(f\"Added {project_root_dir} to sys.path\")\n",
    "\n",
    "# 4. Now, import your custom accessor module\n",
    "#    Python will now find 'pandas_missing_extension.py' in the added path.\n",
    "import pandas_missing_extension"
   ]
  },
  {
   "cell_type": "markdown",
   "metadata": {
    "cell_id": "33f565906dc146909d0c5b16eec957be",
    "deepnote_app_coordinates": {
     "h": 5,
     "w": 12,
     "x": 0,
     "y": 55
    },
    "deepnote_cell_type": "markdown",
    "tags": []
   },
   "source": [
    "### Configurar el aspecto general de las gráficas del proyecto"
   ]
  },
  {
   "cell_type": "code",
   "execution_count": null,
   "metadata": {
    "cell_id": "33e5eaad0917441da2560ba20927741f",
    "deepnote_app_coordinates": {
     "h": 5,
     "w": 12,
     "x": 0,
     "y": 61
    },
    "deepnote_cell_type": "code",
    "deepnote_to_be_reexecuted": false,
    "execution_millis": 15,
    "execution_start": 1659569098469,
    "output_cleared": true,
    "source_hash": "b1a70c28",
    "tags": []
   },
   "outputs": [],
   "source": [
    "%matplotlib inline\n",
    "\n",
    "sns.set(\n",
    "    rc={\n",
    "        \"figure.figsize\": (10, 10)\n",
    "    }\n",
    ")\n",
    "\n",
    "sns.set_style(\"whitegrid\")"
   ]
  },
  {
   "cell_type": "markdown",
   "metadata": {
    "cell_id": "4b81b7e1fb6344d1b30bdb606b73e6b7",
    "deepnote_app_coordinates": {
     "h": 5,
     "w": 12,
     "x": 0,
     "y": 67
    },
    "deepnote_cell_type": "markdown",
    "tags": []
   },
   "source": [
    "### Operar con valores faltantes"
   ]
  },
  {
   "cell_type": "markdown",
   "metadata": {
    "cell_id": "f374b01f6261499faa59a5aa14d59b9b",
    "deepnote_app_coordinates": {
     "h": 5,
     "w": 12,
     "x": 0,
     "y": 73
    },
    "deepnote_cell_type": "markdown",
    "tags": []
   },
   "source": [
    "##### Python"
   ]
  },
  {
   "cell_type": "code",
   "execution_count": null,
   "metadata": {
    "cell_id": "419c66e043234760933f22764df96e62",
    "deepnote_cell_type": "code",
    "deepnote_to_be_reexecuted": false,
    "execution_millis": 14,
    "execution_start": 1659569098491,
    "output_cleared": true,
    "source_hash": "3bdb3a46",
    "tags": []
   },
   "outputs": [],
   "source": [
    "print(None or True,\n",
    "      None or True,\n",
    "      None == None,\n",
    "      None is None,\n",
    "      type(None),\n",
    "      sep='\\n')      "
   ]
  },
  {
   "cell_type": "markdown",
   "metadata": {
    "cell_id": "29d6b10a5c1e44acb4df4e91736f609b",
    "deepnote_app_coordinates": {
     "h": 5,
     "w": 12,
     "x": 0,
     "y": 85
    },
    "deepnote_cell_type": "markdown",
    "tags": []
   },
   "source": [
    "#### NumPy"
   ]
  },
  {
   "cell_type": "code",
   "execution_count": null,
   "metadata": {},
   "outputs": [],
   "source": [
    "# print(\n",
    "#     np.nan  or True,\n",
    "#     np.nan is np.nan,\n",
    "#     np.nan == np.nan,\n",
    "#     np.nan / 2,\n",
    "#     type(np.nan),\n",
    "#     np.isnan(np.nan),\n",
    "#     sep='\\n'    \n",
    "# )"
   ]
  },
  {
   "cell_type": "markdown",
   "metadata": {
    "cell_id": "12e0c18ed40e490fae21958792bd85bd",
    "deepnote_app_coordinates": {
     "h": 5,
     "w": 12,
     "x": 0,
     "y": 97
    },
    "deepnote_cell_type": "markdown",
    "tags": []
   },
   "source": [
    "#### Pandas"
   ]
  },
  {
   "cell_type": "code",
   "execution_count": null,
   "metadata": {
    "cell_id": "fd3fd540319542da83b23c632e1f0c6d",
    "deepnote_app_coordinates": {
     "h": 5,
     "w": 12,
     "x": 0,
     "y": 103
    },
    "deepnote_cell_type": "code",
    "deepnote_to_be_reexecuted": false,
    "execution_millis": 62,
    "execution_start": 1659569098545,
    "output_cleared": true,
    "source_hash": "4c3b9b7c",
    "tags": []
   },
   "outputs": [],
   "source": [
    "# test_missing_df = pd.DataFrame.from_dict(\n",
    "#     data=dict(\n",
    "#         x=[0, 1, np.nan, np.nan, None],\n",
    "#         y=[0, 1, pd.NA, np.nan, None]\n",
    "#     )\n",
    "# )\n",
    "# print(test_missing_df)"
   ]
  },
  {
   "cell_type": "code",
   "execution_count": null,
   "metadata": {},
   "outputs": [],
   "source": [
    "# test_missing_df.isna()"
   ]
  },
  {
   "cell_type": "code",
   "execution_count": null,
   "metadata": {},
   "outputs": [],
   "source": [
    "# test_missing_df.isnull()"
   ]
  },
  {
   "cell_type": "code",
   "execution_count": null,
   "metadata": {},
   "outputs": [],
   "source": [
    "# test_missing_df.x.isnull()"
   ]
  },
  {
   "cell_type": "code",
   "execution_count": null,
   "metadata": {},
   "outputs": [],
   "source": [
    "# pd.Series([1, np.nan])"
   ]
  },
  {
   "cell_type": "code",
   "execution_count": null,
   "metadata": {},
   "outputs": [],
   "source": [
    "# pd.Series([pd.to_datetime('2022-01-01'), np.nan])"
   ]
  },
  {
   "cell_type": "code",
   "execution_count": null,
   "metadata": {},
   "outputs": [],
   "source": [
    "# pd.Series([-1]).isnull()"
   ]
  },
  {
   "cell_type": "markdown",
   "metadata": {
    "cell_id": "4609f4a26dc644b6a20acedd9f83f246",
    "deepnote_app_coordinates": {
     "h": 5,
     "w": 12,
     "x": 0,
     "y": 139
    },
    "deepnote_cell_type": "markdown",
    "tags": []
   },
   "source": [
    "### Cargar los conjuntos de datos"
   ]
  },
  {
   "cell_type": "code",
   "execution_count": null,
   "metadata": {},
   "outputs": [],
   "source": [
    "# 1️⃣ Crear la carpeta .kaggle en tu home (usuario local)\n",
    "import os\n",
    "os.makedirs(os.path.expanduser(\"~/.kaggle\"), exist_ok=True)\n",
    "\n",
    "# 2️⃣ Descargar el dataset\n",
    "!kaggle datasets download -d kumargh/pimaindiansdiabetescsv\n",
    "\n",
    "# 3️⃣ Descomprimir\n",
    "!yes | unzip -o pimaindiansdiabetescsv.zip -d pima_diabetes\n",
    "\n"
   ]
  },
  {
   "cell_type": "code",
   "execution_count": null,
   "metadata": {},
   "outputs": [],
   "source": [
    "# --- PARTE 1: UBICAR Y MOVER EL ARCHIVO ---\n",
    "\n",
    "# 1. Obtener la ruta del directorio donde se está ejecutando este Notebook.\n",
    "# Esto te dará algo como: Path('/home/paco/datos_faltantes/curso-datos-faltantes-main/jupyter')\n",
    "current_notebook_dir = Path.cwd()\n",
    "print(f\"Directorio actual del Notebook: {current_notebook_dir}\")\n",
    "\n",
    "# 2. Construir la ruta al archivo de ORIGEN (donde está el CSV después de descomprimir).\n",
    "# Es 'pima_diabetes/pima-indians-diabetes.csv' RELATIVO al directorio del Notebook.\n",
    "source_file_path = current_notebook_dir / 'pima_diabetes' / 'pima-indians-diabetes.csv'\n",
    "print(f\"Ruta de origen esperada: {source_file_path}\")\n",
    "\n",
    "# 3. Construir la ruta al directorio de DESTINO ('data/').\n",
    "# El directorio 'data' está UN NIVEL ARRIBA del directorio del Notebook (jupyter/)\n",
    "# y luego se entra en 'data/'.\n",
    "# current_notebook_dir.parent te lleva a 'curso-datos-faltantes-main/'.\n",
    "# Luego, le añades 'data'.\n",
    "destination_dir = current_notebook_dir.parent / 'data'\n",
    "print(f\"Directorio de destino esperado: {destination_dir}\")\n",
    "\n",
    "# 4. Construir la ruta COMPLETA del archivo en su destino.\n",
    "destination_file_path = destination_dir / 'pima-indians-diabetes.csv'\n",
    "print(f\"Ruta de destino final: {destination_file_path}\")\n",
    "\n",
    "# 5. Mover el archivo SÓLO SI EXISTE en el origen.\n",
    "if source_file_path.exists():\n",
    "    # shutil.move es como el comando 'mv' de Linux o 'move' de Windows.\n",
    "    # Mueve el archivo de source_file_path a destination_file_path.\n",
    "    shutil.move(source_file_path, destination_file_path)\n",
    "    print(f\"\\n¡Éxito! Archivo '{source_file_path.name}' movido a '{destination_file_path}'.\")\n",
    "else:\n",
    "    print(f\"\\nError: El archivo de origen '{source_file_path}' no fue encontrado.\")\n",
    "    print(\"Asegúrate de que el archivo 'pimaindiansdiabetescsv.zip' se haya descargado y descomprimido correctamente en 'jupyter/pima_diabetes/'.\")\n",
    "\n",
    "# --- PARTE 2: CARGAR EL ARCHIVO CON PANDAS DESDE LA NUEVA UBICACIÓN ---\n",
    "\n",
    "# Ahora que el archivo está en 'data/', la ruta para Pandas debe reflejar eso.\n",
    "# Desde 'jupyter/', para llegar a 'data/', subimos un nivel ('../') y entramos en 'data/'.\n",
    "final_csv_load_path_for_pandas = '../data/pima-indians-diabetes.csv'\n",
    "\n",
    "try:\n",
    "    diabetes_df = pd.read_csv(\n",
    "    final_csv_load_path_for_pandas,\n",
    "    sep=\",\",\n",
    "    names=[\n",
    "        \"pregnancies\",\n",
    "        \"glucose\",\n",
    "        \"blood_pressure\",\n",
    "        \"skin_thickness\",\n",
    "        \"insulin\",\n",
    "        \"bmi\",\n",
    "        \"diabetes_pedigree_function\",\n",
    "        \"age\",\n",
    "        \"outcome\",\n",
    "    ]\n",
    "    )\n",
    "    print(diabetes_df.head())\n",
    "    \n",
    "except FileNotFoundError:\n",
    "    print(f\"\\nError: No se pudo cargar el archivo CSV desde '{final_csv_load_path_for_pandas}'.\")\n",
    "    print(\"Verifica que el archivo haya sido movido correctamente y que la ruta sea correcta.\")"
   ]
  },
  {
   "cell_type": "markdown",
   "metadata": {
    "cell_id": "6cb4e23d662b4f57b1464917d037e2e0",
    "deepnote_app_coordinates": {
     "h": 5,
     "w": 12,
     "x": 0,
     "y": 0
    },
    "deepnote_cell_type": "markdown",
    "tags": []
   },
   "source": [
    "### Pima Indians Diabetes"
   ]
  },
  {
   "cell_type": "markdown",
   "metadata": {
    "cell_id": "62cb96ca5ba542c79e68622f76708ffe",
    "deepnote_app_coordinates": {
     "h": 5,
     "w": 12,
     "x": 0,
     "y": 0
    },
    "deepnote_cell_type": "markdown",
    "tags": []
   },
   "source": [
    "### naniar (oceanbuoys, pedestrian, riskfactors)"
   ]
  },
  {
   "cell_type": "markdown",
   "metadata": {},
   "source": [
    "#### Crear unidades de información de los conjuntos de datos y descargar y cargar los conjuntos de datos"
   ]
  },
  {
   "cell_type": "code",
   "execution_count": null,
   "metadata": {
    "cell_id": "540a0329c70846648653e53bc5315eff",
    "deepnote_app_coordinates": {
     "h": 5,
     "w": 12,
     "x": 0,
     "y": 151
    },
    "deepnote_cell_type": "code",
    "deepnote_to_be_reexecuted": false,
    "execution_millis": 0,
    "execution_start": 1659569526798,
    "output_cleared": true,
    "source_hash": "95ff45d",
    "tags": []
   },
   "outputs": [],
   "source": [
    "# --- Configuración (ajusta si es necesario) ---\n",
    "# Obtener el directorio padre de tu notebook (curso-datos-faltantes-main/)\n",
    "# Esto es esencial para ubicar la carpeta 'data' de forma robusta.\n",
    "project_root_dir = Path.cwd().parent\n",
    "data_dir = project_root_dir / 'data' # La ruta completa a tu directorio 'data'\n",
    "\n",
    "# Nombres de los datasets (sin extensión .rda)\n",
    "# Asegúrate de que estos nombres coincidan con los nombres de los objetos R dentro de los archivos .rda\n",
    "datasets_names = [\"oceanbuoys\", \"pedestrian\", \"riskfactors\"]\n",
    "extension = \".rda\"\n",
    "\n",
    "# Diccionario para almacenar los DataFrames\n",
    "datasets_dfs = {}\n",
    "\n",
    "# --- Lectura y Conversión ---\n",
    "\n",
    "print(f\"Buscando archivos .rda en: {data_dir}\\n\")\n",
    "\n",
    "for dataset_name in datasets_names:\n",
    "    # Construir la ruta completa del archivo .rda\n",
    "    dataset_file_path = data_dir / f\"{dataset_name}{extension}\"\n",
    "\n",
    "    if dataset_file_path.exists():\n",
    "        print(f\"Leyendo '{dataset_file_path.name}'...\")\n",
    "        try:\n",
    "            # Leer el archivo .rda\n",
    "            # .get(dataset_name) intenta extraer un objeto llamado 'dataset_name' del archivo .rda\n",
    "            df = pyreadr.read_r(str(dataset_file_path)).get(dataset_name)\n",
    "            datasets_dfs[f\"{dataset_name}_df\"] = df\n",
    "            print(f\"  -> '{dataset_name}_df' creado con éxito.\")\n",
    "        except Exception as e:\n",
    "            print(f\"  Error al leer '{dataset_file_path.name}' con pyreadr: {e}\")\n",
    "            print(f\"  Asegúrate de que el nombre del objeto R dentro del archivo .rda sea '{dataset_name}'.\")\n",
    "            print(\"  Si el nombre del objeto R es diferente al nombre del archivo, necesitarás ajustar .get().\")\n",
    "    else:\n",
    "        print(f\"Advertencia: Archivo '{dataset_file_path.name}' no encontrado en '{data_dir}'. Saltando.\")\n",
    "\n",
    "# --- Verificación ---\n",
    "print(\"\\n--- DataFrames cargados ---\")\n",
    "if datasets_dfs:\n",
    "    for df_name, df in datasets_dfs.items():\n",
    "        print(f\"\\nDataFrame: {df_name}\")\n",
    "        print(df.head())\n",
    "        print(f\"Forma: {df.shape}\")\n",
    "else:\n",
    "    print(\"No se cargaron DataFrames.\")\n"
   ]
  },
  {
   "cell_type": "markdown",
   "metadata": {},
   "source": [
    "#### Incluir conjuntos de datos en nuestro ambiente local"
   ]
  },
  {
   "cell_type": "code",
   "execution_count": null,
   "metadata": {},
   "outputs": [],
   "source": [
    "# --- Mover DataFrames del Diccionario al Ámbito Global y Limpiar ---\n",
    "\n",
    "print(\"\\n--- Convirtiendo DataFrames de diccionario a variables globales ---\")\n",
    "if datasets_dfs:\n",
    "    # Esta línea es la clave: extrae cada par clave-valor del diccionario\n",
    "    # y los establece como variables independientes en tu entorno de Jupyter.\n",
    "    locals().update(**datasets_dfs)\n",
    "    print(\"DataFrames movidos al ámbito global (ej. 'oceanbuoys_df').\")\n",
    "\n",
    "    # Una vez que los DataFrames están como variables globales,\n",
    "    # el diccionario datasets_dfs ya no es necesario y se puede eliminar para liberar memoria.\n",
    "    del datasets_dfs\n",
    "    print(\"Diccionario 'datasets_dfs' eliminado.\")\n",
    "else:\n",
    "    print(\"No hay DataFrames cargados para mover.\")\n",
    "\n",
    "# --- Verificación de Variables Globales ---\n",
    "\n",
    "print(\"\\n--- Verificación de acceso a DataFrames como variables globales ---\")\n",
    "# Ahora puedes acceder a los DataFrames directamente por sus nombres\n",
    "# Por ejemplo:\n",
    "try:\n",
    "    if 'oceanbuoys_df' in locals():\n",
    "        print(\"Variable 'oceanbuys_df' existe.\")\n",
    "        print(oceanbuoys_df.head())\n",
    "        print(f\"Forma de 'oceanbuoys_df': {oceanbuoys_df.shape}\")\n",
    "    else:\n",
    "        print(\"La variable 'oceanbuoys_df' no se pudo crear (verifica nombres de archivos/objetos R).\")\n",
    "\n",
    "    if 'pedestrian_df' in locals():\n",
    "        print(\"Variable 'pedestrian_df' existe.\")\n",
    "        print(pedestrian_df.head())\n",
    "        print(f\"Forma de 'pedestrian_df': {pedestrian_df.shape}\")\n",
    "\n",
    "    if 'oceanbuoys_df' in locals():\n",
    "        print(\"Variable 'oceanbuoys_df' existe.\")\n",
    "        print(oceanbuoys_df.head())\n",
    "        print(f\"Forma de 'oceanbuoys_df': {oceanbuoys_df.shape}\")\n",
    "\n",
    "except NameError as e:\n",
    "    print(f\"\\nError al intentar acceder a una variable global: {e}\")\n",
    "    print(\"Esto puede ocurrir si el nombre del objeto R dentro del archivo .rda no coincide con el 'dataset_name' utilizado en la lista.\")\n",
    "except Exception as e:\n",
    "    print(f\"\\nOcurrió un error inesperado durante la verificación: {e}\")"
   ]
  },
  {
   "cell_type": "markdown",
   "metadata": {
    "cell_id": "208f2a699bd340c081898e356d9b11b1",
    "deepnote_app_coordinates": {
     "h": 5,
     "w": 12,
     "x": 0,
     "y": 181
    },
    "deepnote_cell_type": "markdown",
    "tags": []
   },
   "source": [
    "### Verificar carga"
   ]
  },
  {
   "cell_type": "code",
   "execution_count": null,
   "metadata": {},
   "outputs": [],
   "source": [
    "oceanbuoys_df.shape, pedestrian_df.shape, riskfactors_df.shape\n",
    "\n",
    "pd.set_option('display.max_columns', None)\n",
    "pd.set_option('display.width', 1000) # Set to a large width to avoid wrapping\n",
    "pd.set_option('display.max_info_columns', 1000) # Keep this as a large int\n",
    "\n",
    "print(\"--- Displaying info for oceanbuoys_df ---\")\n",
    "oceanbuoys_df.info()\n",
    "\n",
    "print(\"\\n--- Confirming DataFrame dimensions ---\")\n",
    "print(f\"Number of rows: {oceanbuoys_df.shape[0]}\")\n",
    "print(f\"Number of columns: {oceanbuoys_df.shape[1]}\") # This will tell you the actual count\n",
    "\n",
    "print(\"\\n--- Listing all column names ---\")\n",
    "# This is the most definitive way to see all column names.\n",
    "for i, col in enumerate(oceanbuoys_df.columns):\n",
    "    print(f\"Column {i}: {col}\")"
   ]
  },
  {
   "cell_type": "markdown",
   "metadata": {
    "cell_id": "4931ac5d98934dfcade669dbfd512b86",
    "deepnote_app_coordinates": {
     "h": 5,
     "w": 12,
     "x": 0,
     "y": 199
    },
    "deepnote_cell_type": "markdown",
    "tags": []
   },
   "source": [
    "## Tabulación de valores faltantes"
   ]
  },
  {
   "cell_type": "code",
   "execution_count": null,
   "metadata": {
    "cell_id": "28c23b37020f40f9822f94357ad45db9",
    "deepnote_app_coordinates": {
     "h": 5,
     "w": 12,
     "x": 0,
     "y": 205
    },
    "deepnote_cell_type": "code",
    "deepnote_to_be_reexecuted": false,
    "execution_millis": 676,
    "execution_start": 1659559209164,
    "output_cleared": true,
    "source_hash": "d572177c",
    "tags": []
   },
   "outputs": [],
   "source": [
    "riskfactors_df.isna()"
   ]
  },
  {
   "cell_type": "markdown",
   "metadata": {
    "cell_id": "9e5247a9afcb40e384f53e47a51e8f27",
    "deepnote_app_coordinates": {
     "h": 5,
     "w": 12,
     "x": 0,
     "y": 211
    },
    "deepnote_cell_type": "markdown",
    "tags": []
   },
   "source": [
    "### Resúmenes básicos de valores faltantes"
   ]
  },
  {
   "cell_type": "code",
   "execution_count": null,
   "metadata": {
    "cell_id": "e677968a7cc84f02a3e32a6741680d17",
    "deepnote_app_coordinates": {
     "h": 5,
     "w": 12,
     "x": 0,
     "y": 217
    },
    "deepnote_cell_type": "code",
    "deepnote_to_be_reexecuted": false,
    "execution_millis": 3,
    "execution_start": 1659559209232,
    "output_cleared": true,
    "source_hash": "f161de07",
    "tags": []
   },
   "outputs": [],
   "source": [
    "riskfactors_df.shape"
   ]
  },
  {
   "cell_type": "markdown",
   "metadata": {
    "cell_id": "ffe29f6f04994422a43494fd5d8a49a4",
    "deepnote_app_coordinates": {
     "h": 5,
     "w": 12,
     "x": 0,
     "y": 223
    },
    "deepnote_cell_type": "markdown",
    "deepnote_to_be_reexecuted": false,
    "execution_start": 1657058318180,
    "source_hash": "b623e53d",
    "tags": []
   },
   "source": [
    "#### Número total de valores completos (sin observaciones faltantes)"
   ]
  },
  {
   "cell_type": "code",
   "execution_count": null,
   "metadata": {
    "cell_id": "8add42787692443dacef9244a8087eca",
    "deepnote_app_coordinates": {
     "h": 5,
     "w": 12,
     "x": 0,
     "y": 229
    },
    "deepnote_cell_type": "code",
    "deepnote_to_be_reexecuted": false,
    "execution_millis": 491,
    "execution_start": 1659559209350,
    "output_cleared": true,
    "source_hash": "fb992873",
    "tags": []
   },
   "outputs": [],
   "source": [
    "riskfactors_df.missing.number_complete()"
   ]
  },
  {
   "cell_type": "markdown",
   "metadata": {
    "cell_id": "f43d3ab4e1394ee08e30710c07073a65",
    "deepnote_app_coordinates": {
     "h": 5,
     "w": 12,
     "x": 0,
     "y": 235
    },
    "deepnote_cell_type": "markdown",
    "tags": []
   },
   "source": [
    "#### Número total de valores faltantes"
   ]
  },
  {
   "cell_type": "code",
   "execution_count": null,
   "metadata": {
    "cell_id": "2a6519eb2052435c929cea9d827700c7",
    "deepnote_app_coordinates": {
     "h": 5,
     "w": 12,
     "x": 0,
     "y": 241
    },
    "deepnote_cell_type": "code",
    "deepnote_to_be_reexecuted": false,
    "execution_millis": 491,
    "execution_start": 1659559209351,
    "output_cleared": true,
    "source_hash": "be866a7e",
    "tags": []
   },
   "outputs": [],
   "source": [
    "riskfactors_df.missing.number_missing()"
   ]
  },
  {
   "cell_type": "markdown",
   "metadata": {
    "cell_id": "b62731d3b6cb4407af86bed72cb06617",
    "deepnote_app_coordinates": {
     "h": 5,
     "w": 12,
     "x": 0,
     "y": 247
    },
    "deepnote_cell_type": "markdown",
    "deepnote_to_be_reexecuted": false,
    "execution_start": 1657058318190,
    "source_hash": "b623e53d",
    "tags": []
   },
   "source": [
    "### Resúmenes tabulares de valores faltantes"
   ]
  },
  {
   "cell_type": "markdown",
   "metadata": {
    "cell_id": "f244c0a448914216be106b03ef7f4247",
    "deepnote_app_coordinates": {
     "h": 5,
     "w": 12,
     "x": 0,
     "y": 253
    },
    "deepnote_cell_type": "markdown",
    "tags": []
   },
   "source": [
    "#### Variables / Columnas"
   ]
  },
  {
   "cell_type": "markdown",
   "metadata": {
    "cell_id": "524e74380f774e34a8b23bbee58e7318",
    "deepnote_app_coordinates": {
     "h": 5,
     "w": 12,
     "x": 0,
     "y": 259
    },
    "deepnote_cell_type": "markdown",
    "tags": []
   },
   "source": [
    "###### Resumen por variable"
   ]
  },
  {
   "cell_type": "code",
   "execution_count": null,
   "metadata": {
    "cell_id": "208c64e0e4f547e48590c31818960eff",
    "deepnote_cell_type": "code",
    "deepnote_to_be_reexecuted": false,
    "execution_millis": 490,
    "execution_start": 1659559209352,
    "output_cleared": true,
    "source_hash": "6d4bd0f1",
    "tags": []
   },
   "outputs": [],
   "source": [
    "riskfactors_df.missing.missing_variable_table()"
   ]
  },
  {
   "cell_type": "markdown",
   "metadata": {
    "cell_id": "1144a6557a7c460396b11efbac790e94",
    "deepnote_app_coordinates": {
     "h": 5,
     "w": 12,
     "x": 0,
     "y": 271
    },
    "deepnote_cell_type": "markdown",
    "tags": []
   },
   "source": [
    "###### Tabulación del resumen por variable"
   ]
  },
  {
   "cell_type": "code",
   "execution_count": null,
   "metadata": {
    "cell_id": "d5729c2e5e684002bb735631fff851ba",
    "deepnote_cell_type": "code",
    "deepnote_to_be_reexecuted": false,
    "execution_millis": 488,
    "execution_start": 1659559209355,
    "output_cleared": true,
    "source_hash": "36fbf34b",
    "tags": []
   },
   "outputs": [],
   "source": [
    "riskfactors_df.missing.missing_variable_table()"
   ]
  },
  {
   "cell_type": "markdown",
   "metadata": {
    "cell_id": "ac1ce862208c48d192a42793ccc4e1bb",
    "deepnote_app_coordinates": {
     "h": 5,
     "w": 12,
     "x": 0,
     "y": 283
    },
    "deepnote_cell_type": "markdown",
    "deepnote_to_be_reexecuted": false,
    "execution_start": 1657058318225,
    "source_hash": "b623e53d",
    "tags": []
   },
   "source": [
    "#### Casos / Observaciones / Filas"
   ]
  },
  {
   "cell_type": "markdown",
   "metadata": {
    "cell_id": "4cb49678bcf94c21bd88829621ec9f1d",
    "deepnote_app_coordinates": {
     "h": 5,
     "w": 12,
     "x": 0,
     "y": 289
    },
    "deepnote_cell_type": "markdown",
    "deepnote_to_be_reexecuted": false,
    "execution_start": 1657058318225,
    "source_hash": "b623e53d",
    "tags": []
   },
   "source": [
    "###### Resúmenes por caso"
   ]
  },
  {
   "cell_type": "code",
   "execution_count": null,
   "metadata": {
    "cell_id": "9e01191de0d64f80a31b84e7981c089f",
    "deepnote_app_coordinates": {
     "h": 5,
     "w": 12,
     "x": 0,
     "y": 295
    },
    "deepnote_cell_type": "code",
    "deepnote_to_be_reexecuted": false,
    "execution_millis": 395,
    "execution_start": 1659559209448,
    "output_cleared": true,
    "source_hash": "975bd296",
    "tags": []
   },
   "outputs": [],
   "source": [
    "riskfactors_df.missing.missing_case_table()"
   ]
  },
  {
   "cell_type": "markdown",
   "metadata": {
    "cell_id": "77eb6477918a49c087bc8e36d96a9dcf",
    "deepnote_app_coordinates": {
     "h": 5,
     "w": 12,
     "x": 0,
     "y": 301
    },
    "deepnote_cell_type": "markdown",
    "deepnote_to_be_reexecuted": false,
    "execution_start": 1657058318230,
    "source_hash": "b623e53d",
    "tags": []
   },
   "source": [
    "###### Tabulación del resumen por caso"
   ]
  },
  {
   "cell_type": "code",
   "execution_count": null,
   "metadata": {
    "cell_id": "7c1d34687a58412a821e5ca47425ecc5",
    "deepnote_app_coordinates": {
     "h": 5,
     "w": 12,
     "x": 0,
     "y": 307
    },
    "deepnote_cell_type": "code",
    "deepnote_to_be_reexecuted": false,
    "execution_millis": 361,
    "execution_start": 1659559209484,
    "output_cleared": true,
    "source_hash": "c0d99fbf",
    "tags": []
   },
   "outputs": [],
   "source": [
    "riskfactors_df.missing.missing_case_table()"
   ]
  },
  {
   "cell_type": "markdown",
   "metadata": {
    "cell_id": "27585c63ab28405da1d947146ca96eb0",
    "deepnote_app_coordinates": {
     "h": 5,
     "w": 12,
     "x": 0,
     "y": 313
    },
    "deepnote_cell_type": "markdown",
    "deepnote_to_be_reexecuted": false,
    "execution_start": 1657058318284,
    "source_hash": "b623e53d",
    "tags": []
   },
   "source": [
    "###### Intervalos de valores faltantes"
   ]
  },
  {
   "cell_type": "code",
   "execution_count": null,
   "metadata": {
    "cell_id": "7cde3d5db0e84f72b748b460b4545b84",
    "deepnote_app_coordinates": {
     "h": 5,
     "w": 12,
     "x": 0,
     "y": 319
    },
    "deepnote_cell_type": "code",
    "deepnote_to_be_reexecuted": false,
    "execution_millis": 231,
    "execution_start": 1659559209615,
    "output_cleared": true,
    "source_hash": "9b5c5d5d",
    "tags": []
   },
   "outputs": [],
   "source": [
    "riskfactors_df.missing.missing_variable_span(variable='weight_lbs', span_every= 50)"
   ]
  },
  {
   "cell_type": "markdown",
   "metadata": {
    "cell_id": "e17690876b7b48b9a59d5590e9da2104",
    "deepnote_app_coordinates": {
     "h": 5,
     "w": 12,
     "x": 0,
     "y": 325
    },
    "deepnote_cell_type": "markdown",
    "tags": []
   },
   "source": [
    "###### _Run length_ de valores faltantes"
   ]
  },
  {
   "cell_type": "code",
   "execution_count": null,
   "metadata": {
    "cell_id": "375fd3dd5bc7487385a414ed3bcb9bfc",
    "deepnote_app_coordinates": {
     "h": 5,
     "w": 12,
     "x": 0,
     "y": 331
    },
    "deepnote_cell_type": "code",
    "deepnote_to_be_reexecuted": false,
    "execution_millis": 244,
    "execution_start": 1659559209629,
    "output_cleared": true,
    "source_hash": "567e3afe",
    "tags": []
   },
   "outputs": [],
   "source": [
    "riskfactors_df.missing.missing_variable_run(variable='weight_lbs')"
   ]
  },
  {
   "cell_type": "markdown",
   "metadata": {
    "cell_id": "74f2c6b6f5824127877ce4ff854b345d",
    "deepnote_app_coordinates": {
     "h": 5,
     "w": 12,
     "x": 0,
     "y": 337
    },
    "deepnote_cell_type": "markdown",
    "tags": []
   },
   "source": [
    "### Visualización inicial de valores faltantes"
   ]
  },
  {
   "cell_type": "markdown",
   "metadata": {
    "cell_id": "a426c9169ed44dc4931d5353f86d3cb2",
    "deepnote_app_coordinates": {
     "h": 5,
     "w": 12,
     "x": 0,
     "y": 343
    },
    "deepnote_cell_type": "markdown",
    "tags": []
   },
   "source": [
    "#### Variable"
   ]
  },
  {
   "cell_type": "code",
   "execution_count": null,
   "metadata": {
    "cell_id": "7f64e90682624f98a57b1802049a5e19",
    "deepnote_app_coordinates": {
     "h": 5,
     "w": 12,
     "x": 0,
     "y": 349
    },
    "deepnote_cell_type": "code",
    "deepnote_to_be_reexecuted": false,
    "execution_millis": 314,
    "execution_start": 1659559209870,
    "output_cleared": true,
    "source_hash": "b0a18cea",
    "tags": []
   },
   "outputs": [],
   "source": [
    "riskfactors_df.missing.missing_variable_plot()"
   ]
  },
  {
   "cell_type": "markdown",
   "metadata": {
    "cell_id": "584cdff05bb64da784df4508545b3004",
    "deepnote_app_coordinates": {
     "h": 5,
     "w": 12,
     "x": 0,
     "y": 355
    },
    "deepnote_cell_type": "markdown",
    "tags": []
   },
   "source": [
    "### Casos / Observaciones / Filas"
   ]
  },
  {
   "cell_type": "code",
   "execution_count": null,
   "metadata": {
    "cell_id": "009e087355c643d29c78873726e05420",
    "deepnote_app_coordinates": {
     "h": 5,
     "w": 12,
     "x": 0,
     "y": 361
    },
    "deepnote_cell_type": "code",
    "deepnote_to_be_reexecuted": false,
    "execution_millis": 605,
    "execution_start": 1659559210184,
    "output_cleared": true,
    "source_hash": "aede1a50",
    "tags": []
   },
   "outputs": [],
   "source": [
    "riskfactors_df.missing.missing_case_plot()"
   ]
  },
  {
   "cell_type": "code",
   "execution_count": null,
   "metadata": {
    "cell_id": "6104c571b16e4e539b75c66c97fef5ab",
    "deepnote_app_coordinates": {
     "h": 5,
     "w": 12,
     "x": 0,
     "y": 367
    },
    "deepnote_cell_type": "code",
    "deepnote_to_be_reexecuted": false,
    "execution_millis": 786,
    "execution_start": 1659559210791,
    "output_cleared": true,
    "source_hash": "fe8ed53",
    "tags": []
   },
   "outputs": [],
   "source": [
    "(riskfactors_df\n",
    " .missing\n",
    " .missing_variable_span_plot(\n",
    "   variable='weight_lbs',\n",
    "    span_every=20\n",
    "    )\n",
    ")"
   ]
  },
  {
   "cell_type": "code",
   "execution_count": null,
   "metadata": {
    "cell_id": "719871f5f029480d9bc6aeb28c75d74b",
    "deepnote_app_coordinates": {
     "h": 5,
     "w": 12,
     "x": 0,
     "y": 373
    },
    "deepnote_cell_type": "code",
    "deepnote_to_be_reexecuted": false,
    "execution_millis": 4611,
    "execution_start": 1659559211581,
    "output_cleared": true,
    "source_hash": "eee1c7ee",
    "tags": []
   },
   "outputs": [],
   "source": [
    "missingno.bar(riskfactors_df, figsize=(10, 5), fontsize=9)"
   ]
  },
  {
   "cell_type": "code",
   "execution_count": null,
   "metadata": {
    "cell_id": "28da5adbacf94b6dab89bae126c4f412",
    "deepnote_app_coordinates": {
     "h": 5,
     "w": 12,
     "x": 0,
     "y": 379
    },
    "deepnote_cell_type": "code",
    "deepnote_to_be_reexecuted": false,
    "execution_millis": 815,
    "execution_start": 1659559216216,
    "output_cleared": true,
    "source_hash": "7cfb3bf9",
    "tags": []
   },
   "outputs": [],
   "source": [
    "missingno.matrix(riskfactors_df, figsize=(20, 10), fontsize=11)"
   ]
  },
  {
   "cell_type": "code",
   "execution_count": null,
   "metadata": {
    "cell_id": "8e69e9f24db041fc943f936537ca9513",
    "deepnote_app_coordinates": {
     "h": 5,
     "w": 12,
     "x": 0,
     "y": 385
    },
    "deepnote_cell_type": "code",
    "deepnote_to_be_reexecuted": false,
    "execution_millis": 436,
    "execution_start": 1659559217031,
    "output_cleared": true,
    "source_hash": "cfdeab7b",
    "tags": []
   },
   "outputs": [],
   "source": [
    "warnings.filterwarnings(\"ignore\")\n",
    "(riskfactors_df\n",
    "    .missing\n",
    "    .missing_upsetplot(\n",
    "      variables=None,\n",
    "      element_size=60\n",
    "    )\n",
    ")"
   ]
  },
  {
   "cell_type": "markdown",
   "metadata": {},
   "source": [
    "_The UpSet plot visualizes the intersections of missing values across multiple variables (or columns), showing which combinations of them have concurrent absent data and their frequencies._"
   ]
  },
  {
   "cell_type": "code",
   "execution_count": null,
   "metadata": {},
   "outputs": [],
   "source": [
    "warnings.filterwarnings(\"ignore\")\n",
    "(riskfactors_df\n",
    "    .missing\n",
    "    .missing_upsetplot(\n",
    "      variables=['weight_lbs', 'pregnant', 'smoke_stop'],\n",
    "      element_size=60\n",
    "    )\n",
    ")"
   ]
  },
  {
   "cell_type": "markdown",
   "metadata": {},
   "source": [
    "The UpSet plot reveals that in the given dataset, the most common missing data pattern occurs when **`smoke_stop` and `pregnant` are concurrently absent** in over 150 instances, while other combinations of `weight_lbs`, `smoke_stop`, and `pregnant` are less frequent."
   ]
  },
  {
   "cell_type": "markdown",
   "metadata": {
    "cell_id": "b15b0ab95cb94315a71b95a4f77d15e7",
    "deepnote_app_coordinates": {
     "h": 5,
     "w": 12,
     "x": 0,
     "y": 391
    },
    "deepnote_cell_type": "markdown",
    "tags": []
   },
   "source": [
    "## Codificación de valores faltantes"
   ]
  },
  {
   "cell_type": "markdown",
   "metadata": {
    "cell_id": "131ca9c7298d43cba1614429aed38069",
    "deepnote_app_coordinates": {
     "h": 5,
     "w": 12,
     "x": 0,
     "y": 0
    },
    "deepnote_cell_type": "markdown",
    "tags": []
   },
   "source": [
    "<div class=\"alert alert-warning\", role=\"alert\">\n",
    "    <b style=\"font-size: 1.5em;\">🚧 Advertencia</b>\n",
    "    <p>\n",
    "    Al igual que cada persona es una nueva puerta a un mundo diferente, los <b>valores faltantes</b> existen en diferentes formas y colores. Al trabajar con valores faltantes será crítico entender sus distintas representaciones. A pesar de que el conjunto de datos de trabajo pareciera que no contiene valores faltantes, deberás ser capaz de ir más allá de lo observado a simple vista para remover el manto tras el cual se esconde lo desconocido.\n",
    "    </p>\n",
    "</div>"
   ]
  },
  {
   "cell_type": "markdown",
   "metadata": {
    "cell_id": "1a359d96723b4e07957504a64d8dd27e",
    "deepnote_app_coordinates": {
     "h": 5,
     "w": 12,
     "x": 0,
     "y": 403
    },
    "deepnote_cell_type": "markdown",
    "tags": []
   },
   "source": [
    "### Valores comúnmente asociados a valores faltantes"
   ]
  },
  {
   "cell_type": "markdown",
   "metadata": {
    "cell_id": "dd4cfeaa3271462297b59a6091e1be05",
    "deepnote_app_coordinates": {
     "h": 5,
     "w": 12,
     "x": 0,
     "y": 409
    },
    "deepnote_cell_type": "markdown",
    "tags": []
   },
   "source": [
    "#### Cadenas de texto"
   ]
  },
  {
   "cell_type": "code",
   "execution_count": null,
   "metadata": {
    "cell_id": "0710edd968064c39bf983736da8f20ee",
    "deepnote_app_coordinates": {
     "h": 5,
     "w": 12,
     "x": 0,
     "y": 415
    },
    "deepnote_cell_type": "code",
    "deepnote_to_be_reexecuted": false,
    "execution_millis": 2,
    "execution_start": 1659559217461,
    "output_cleared": true,
    "source_hash": "f4b445a7",
    "tags": []
   },
   "outputs": [],
   "source": [
    "common_na_strings = (\n",
    "    \"missing\",\n",
    "    \"NA\",\n",
    "    \"N A\",\n",
    "    \"N/A\",\n",
    "    \"#N/A\",\n",
    "    \"NA \",\n",
    "    \" NA\",\n",
    "    \"N /A\",\n",
    "    \"N / A\",\n",
    "    \" N / A\",\n",
    "    \"N / A \",\n",
    "    \"na\",\n",
    "    \"n a\",\n",
    "    \"n/a\",\n",
    "    \"na \",\n",
    "    \" na\",\n",
    "    \"n /a\",\n",
    "    \"n / a\",\n",
    "    \" a / a\",\n",
    "    \"n / a \",\n",
    "    \"NULL\",\n",
    "    \"null\",\n",
    "    \"\",\n",
    "    \"?\",\n",
    "    \"*\",\n",
    "    \".\",\n",
    ")"
   ]
  },
  {
   "cell_type": "markdown",
   "metadata": {
    "cell_id": "b1db40e05773434494878c44a61fe22b",
    "deepnote_app_coordinates": {
     "h": 5,
     "w": 12,
     "x": 0,
     "y": 421
    },
    "deepnote_cell_type": "markdown",
    "tags": []
   },
   "source": [
    "#### Números"
   ]
  },
  {
   "cell_type": "code",
   "execution_count": null,
   "metadata": {
    "cell_id": "ab1f258819d7484ab708a08928f27adf",
    "deepnote_app_coordinates": {
     "h": 5,
     "w": 12,
     "x": 0,
     "y": 427
    },
    "deepnote_cell_type": "code",
    "deepnote_to_be_reexecuted": false,
    "execution_millis": 0,
    "execution_start": 1659559217471,
    "output_cleared": true,
    "source_hash": "f7e4ca",
    "tags": []
   },
   "outputs": [],
   "source": [
    "common_na_numbers = (-9, -99, -999, -9999, 9999, 66, 77, 88, -1)"
   ]
  },
  {
   "cell_type": "markdown",
   "metadata": {
    "cell_id": "59b2bad5844a4fe380cf53081d57cf25",
    "deepnote_app_coordinates": {
     "h": 5,
     "w": 12,
     "x": 0,
     "y": 433
    },
    "deepnote_cell_type": "markdown",
    "tags": []
   },
   "source": [
    "### ¿Cómo encontrar los valores comúnmente asociados a valores faltantes?"
   ]
  },
  {
   "cell_type": "code",
   "execution_count": null,
   "metadata": {
    "cell_id": "0b2afe9d10e84d35922a7e28780ab238",
    "deepnote_app_coordinates": {
     "h": 5,
     "w": 12,
     "x": 0,
     "y": 439
    },
    "deepnote_cell_type": "code",
    "deepnote_to_be_reexecuted": false,
    "execution_millis": 105,
    "execution_start": 1659559217476,
    "output_cleared": true,
    "source_hash": "a8fbfadb",
    "tags": []
   },
   "outputs": [],
   "source": [
    "missing_data_example_df = pd.DataFrame.from_dict(\n",
    "    dict(\n",
    "        x = [1, 3, \"NA\", -99, -98, -99],\n",
    "        y = [\"A\", \"N/A\", \"NA\", \"E\", \"F\", \"G\"],\n",
    "        z = [-100, -99, -98, -101, -1, -1]\n",
    "    )\n",
    ")\n",
    "\n",
    "missing_data_example_df"
   ]
  },
  {
   "cell_type": "code",
   "execution_count": null,
   "metadata": {
    "cell_id": "ffe78fb4c1a4475ebf653220c3764227",
    "deepnote_app_coordinates": {
     "h": 5,
     "w": 12,
     "x": 0,
     "y": 445
    },
    "deepnote_cell_type": "code",
    "deepnote_to_be_reexecuted": false,
    "execution_millis": 816,
    "execution_start": 1659559217506,
    "output_cleared": true,
    "source_hash": "42f6552a",
    "tags": []
   },
   "outputs": [],
   "source": [
    "missing_data_example_df.missing.number_missing()"
   ]
  },
  {
   "cell_type": "markdown",
   "metadata": {
    "cell_id": "8d58958f025a4f78a5a538c65e0b6e89",
    "deepnote_app_coordinates": {
     "h": 5,
     "w": 12,
     "x": 0,
     "y": 451
    },
    "deepnote_cell_type": "markdown",
    "tags": []
   },
   "source": [
    "#### Revisar tipos de datos"
   ]
  },
  {
   "cell_type": "code",
   "execution_count": null,
   "metadata": {
    "cell_id": "10655c3d3e9640aea49313f170629b30",
    "deepnote_app_coordinates": {
     "h": 5,
     "w": 12,
     "x": 0,
     "y": 457
    },
    "deepnote_cell_type": "code",
    "deepnote_to_be_reexecuted": false,
    "execution_millis": 885,
    "execution_start": 1659559217517,
    "output_cleared": true,
    "source_hash": "6b954eb2",
    "tags": []
   },
   "outputs": [],
   "source": [
    "missing_data_example_df.dtypes"
   ]
  },
  {
   "cell_type": "markdown",
   "metadata": {
    "cell_id": "7bfa613272e84d46824524c5ac32c962",
    "deepnote_app_coordinates": {
     "h": 5,
     "w": 12,
     "x": 0,
     "y": 463
    },
    "deepnote_cell_type": "markdown",
    "tags": []
   },
   "source": [
    "#### Revisar valores únicos de los datos"
   ]
  },
  {
   "cell_type": "code",
   "execution_count": null,
   "metadata": {
    "cell_id": "09b86715a9a3478f9c910345c703d4f8",
    "deepnote_app_coordinates": {
     "h": 5,
     "w": 12,
     "x": 0,
     "y": 469
    },
    "deepnote_cell_type": "code",
    "deepnote_to_be_reexecuted": false,
    "execution_millis": 0,
    "execution_start": 1659559217532,
    "output_cleared": true,
    "source_hash": "7cc2ac10",
    "tags": []
   },
   "outputs": [],
   "source": [
    "missing_data_example_df.x.unique()"
   ]
  },
  {
   "cell_type": "code",
   "execution_count": null,
   "metadata": {
    "cell_id": "7f3467f3191d4f75ae1a0a67a4547f5b",
    "deepnote_app_coordinates": {
     "h": 5,
     "w": 12,
     "x": 0,
     "y": 475
    },
    "deepnote_cell_type": "code",
    "deepnote_to_be_reexecuted": false,
    "execution_millis": 861,
    "execution_start": 1659559217545,
    "output_cleared": true,
    "source_hash": "4b39843d",
    "tags": []
   },
   "outputs": [],
   "source": [
    "(\n",
    "  missing_data_example_df\n",
    "  .select_dtypes(object)\n",
    "  .apply(pd.unique)\n",
    ")"
   ]
  },
  {
   "cell_type": "markdown",
   "metadata": {
    "cell_id": "b601ef81bdfa457ba629edffb7fe2cc0",
    "deepnote_app_coordinates": {
     "h": 5,
     "w": 12,
     "x": 0,
     "y": 481
    },
    "deepnote_cell_type": "markdown",
    "tags": []
   },
   "source": [
    "### Sustituyendo valores comúnmente asociados a valores faltantes"
   ]
  },
  {
   "cell_type": "markdown",
   "metadata": {
    "cell_id": "85f34df7a6b24cf6a43a7cc7409d7bc2",
    "deepnote_app_coordinates": {
     "h": 5,
     "w": 12,
     "x": 0,
     "y": 487
    },
    "deepnote_cell_type": "markdown",
    "tags": []
   },
   "source": [
    "#### Sustitución desde la lectura de datos"
   ]
  },
  {
   "cell_type": "code",
   "execution_count": null,
   "metadata": {
    "cell_id": "0d606b11de644267b0cfd1a458d53267",
    "deepnote_app_coordinates": {
     "h": 5,
     "w": 12,
     "x": 0,
     "y": 493
    },
    "deepnote_cell_type": "code",
    "deepnote_to_be_reexecuted": false,
    "execution_millis": 823,
    "execution_start": 1659559217583,
    "output_cleared": true,
    "source_hash": "3f2dd524",
    "tags": []
   },
   "outputs": [],
   "source": [
    "pd.read_csv(\n",
    "    '../data/missing_data_enconding_example.csv',\n",
    "    na_filter=True,\n",
    "    na_values=[-99, -1]\n",
    ")"
   ]
  },
  {
   "cell_type": "markdown",
   "metadata": {
    "cell_id": "95f97530c59a44b080ea385798bf9e64",
    "deepnote_app_coordinates": {
     "h": 5,
     "w": 12,
     "x": 0,
     "y": 499
    },
    "deepnote_cell_type": "markdown",
    "tags": []
   },
   "source": [
    "#### Sustitución global"
   ]
  },
  {
   "cell_type": "code",
   "execution_count": null,
   "metadata": {
    "cell_id": "cc28d030ecc04a15bd1d4e29f698a8ad",
    "deepnote_app_coordinates": {
     "h": 5,
     "w": 12,
     "x": 0,
     "y": 505
    },
    "deepnote_cell_type": "code",
    "deepnote_to_be_reexecuted": false,
    "execution_millis": 822,
    "execution_start": 1659559217584,
    "output_cleared": true,
    "source_hash": "8184b4e9",
    "tags": []
   },
   "outputs": [],
   "source": [
    "(\n",
    "  missing_data_example_df\n",
    "  .replace(\n",
    "    to_replace=[-1, -98, -99, \"NA\", \"N/A\", \"n/a\", \"na\", \"n a\", \"N A\", \"N /A\", \"N / A\", \"N / A \", \"n /a\", \"n / a\", \" n / a\", \"n / a \", \"\", \"*\", \".\", \"?\"],\n",
    "    value=np.nan\n",
    "  )\n",
    ")"
   ]
  },
  {
   "cell_type": "markdown",
   "metadata": {
    "cell_id": "cd6ec8c24c3544d0ac22b057a91d2d11",
    "deepnote_app_coordinates": {
     "h": 5,
     "w": 12,
     "x": 0,
     "y": 511
    },
    "deepnote_cell_type": "markdown",
    "tags": []
   },
   "source": [
    "#### Sustitución dirigida"
   ]
  },
  {
   "cell_type": "code",
   "execution_count": null,
   "metadata": {
    "cell_id": "40018e85dd254959be79cf8dc216cc54",
    "deepnote_app_coordinates": {
     "h": 5,
     "w": 12,
     "x": 0,
     "y": 517
    },
    "deepnote_cell_type": "code",
    "deepnote_to_be_reexecuted": false,
    "execution_millis": 777,
    "execution_start": 1659559217630,
    "output_cleared": true,
    "source_hash": "48b9230b",
    "tags": []
   },
   "outputs": [],
   "source": []
  },
  {
   "cell_type": "markdown",
   "metadata": {
    "cell_id": "eb9c03cd591c43d1a8d7e1f5ae73bc6a",
    "deepnote_app_coordinates": {
     "h": 5,
     "w": 12,
     "x": 0,
     "y": 523
    },
    "deepnote_cell_type": "markdown",
    "tags": []
   },
   "source": [
    "### Conversión de valores faltantes implícitos a explícitos"
   ]
  },
  {
   "cell_type": "markdown",
   "metadata": {
    "cell_id": "fcdeea22dbc5464ab4305ceaa171914a",
    "deepnote_app_coordinates": {
     "h": 5,
     "w": 12,
     "x": 0,
     "y": 529
    },
    "deepnote_cell_type": "markdown",
    "deepnote_to_be_reexecuted": false,
    "execution_millis": 2,
    "execution_start": 1657070588973,
    "source_hash": "978d2856",
    "tags": []
   },
   "source": [
    "<div class=\"alert alert-warning\", role=\"alert\">\n",
    "    <b style=\"font-size: 1.5em;\">🚧 Advertencia</b>\n",
    "    <br>\n",
    "    <br>\n",
    "    <p>\n",
    "        <i>\n",
    "        \"<b>Implícito</b> se refiere a todo aquello que se entiende que está incluido\n",
    "        pero sin ser expresado de forma directa o explícitamente.\"\n",
    "        </i>\n",
    "    </p>\n",
    "    <p>\n",
    "    Un <code>valor faltante implícito</code> indica que el valor faltante <b>debería estar incluido</b>\n",
    "    en el conjunto de datos del análisis, <b>sin que éste lo diga</b> o lo <b>especifique</b>.\n",
    "    Por lo general, son valores que podemos encontrar al pivotar nuestros datos\n",
    "    o contabilizar el número de apariciones de combinaciones de las variables de estudio.\n",
    "    </p>\n",
    "</div>"
   ]
  },
  {
   "cell_type": "code",
   "execution_count": null,
   "metadata": {
    "cell_id": "7bfa972b5c074f0ab91fd45bfa3c1898",
    "deepnote_app_coordinates": {
     "h": 5,
     "w": 12,
     "x": 0,
     "y": 535
    },
    "deepnote_cell_type": "code",
    "deepnote_to_be_reexecuted": false,
    "execution_millis": 764,
    "execution_start": 1659559217644,
    "output_cleared": true,
    "source_hash": "887afa1e",
    "tags": []
   },
   "outputs": [],
   "source": [
    "implicit_to_explicit_df = pd.DataFrame.from_dict(\n",
    "    data={\n",
    "        \"name\": [\"lynn\", \"lynn\", \"lynn\", \"zelda\"],\n",
    "        \"time\": [\"morning\", \"afternoon\", \"night\", \"morning\"],\n",
    "        \"value\": [350, 310, np.nan, 320]\n",
    "    }\n",
    ")\n",
    "\n",
    "implicit_to_explicit_df"
   ]
  },
  {
   "cell_type": "markdown",
   "metadata": {
    "cell_id": "1a850b747c1f4bf28dfa0e8c6b24a37d",
    "deepnote_app_coordinates": {
     "h": 5,
     "w": 12,
     "x": 0,
     "y": 541
    },
    "deepnote_cell_type": "markdown",
    "tags": []
   },
   "source": [
    "### Estrategias para la identificación de valores faltantes implícitos"
   ]
  },
  {
   "cell_type": "markdown",
   "metadata": {
    "cell_id": "e7daa15deb8f4316bf909c10778214bd",
    "deepnote_app_coordinates": {
     "h": 5,
     "w": 12,
     "x": 0,
     "y": 547
    },
    "deepnote_cell_type": "markdown",
    "tags": []
   },
   "source": [
    "#### Pivotar la tabla de datos"
   ]
  },
  {
   "cell_type": "code",
   "execution_count": null,
   "metadata": {
    "cell_id": "2d8b19ea0bde42698f4ed46b908af877",
    "deepnote_app_coordinates": {
     "h": 5,
     "w": 12,
     "x": 0,
     "y": 553
    },
    "deepnote_cell_type": "code",
    "deepnote_to_be_reexecuted": false,
    "execution_millis": 782,
    "execution_start": 1659559217662,
    "output_cleared": true,
    "source_hash": "167293a",
    "tags": []
   },
   "outputs": [],
   "source": [
    "(\n",
    "  implicit_to_explicit_df\n",
    "  .pivot_wider(\n",
    "    index='name',\n",
    "    names_from='time',\n",
    "    values_from='value'\n",
    "  )\n",
    ")"
   ]
  },
  {
   "cell_type": "markdown",
   "metadata": {
    "cell_id": "aaca9cb595904e44858b4f6b44566a80",
    "deepnote_app_coordinates": {
     "h": 5,
     "w": 12,
     "x": 0,
     "y": 559
    },
    "deepnote_cell_type": "markdown",
    "tags": []
   },
   "source": [
    "#### Cuantificar ocurrencias de n-tuplas"
   ]
  },
  {
   "cell_type": "code",
   "execution_count": null,
   "metadata": {
    "cell_id": "91f8262162d14cd497d0e96e5b9aae04",
    "deepnote_app_coordinates": {
     "h": 5,
     "w": 12,
     "x": 0,
     "y": 565
    },
    "deepnote_cell_type": "code",
    "deepnote_to_be_reexecuted": false,
    "execution_millis": 745,
    "execution_start": 1659559217699,
    "output_cleared": true,
    "source_hash": "6c0b9a1a",
    "tags": []
   },
   "outputs": [],
   "source": [
    "(implicit_to_explicit_df\n",
    " .value_counts(\n",
    "   subset=['name'],\n",
    "    )\n",
    "  .reset_index(name='n')\n",
    "  .query('n < 3')\n",
    ")"
   ]
  },
  {
   "cell_type": "markdown",
   "metadata": {
    "cell_id": "23c7beab16e54abebc10d3f58ad39aa0",
    "deepnote_app_coordinates": {
     "h": 5,
     "w": 12,
     "x": 0,
     "y": 571
    },
    "deepnote_cell_type": "markdown",
    "tags": []
   },
   "source": [
    "### Exponer filas faltantes implícitas a explícitas"
   ]
  },
  {
   "cell_type": "markdown",
   "metadata": {
    "cell_id": "9bd2eb86fc134f25b2f5eb01d2d6bb47",
    "deepnote_app_coordinates": {
     "h": 5,
     "w": 12,
     "x": 0,
     "y": 661
    },
    "deepnote_cell_type": "markdown",
    "tags": []
   },
   "source": [
    "<div class=\"alert alert-info\">\n",
    "    <b style=\"font-size: 1.5em;\">📘 Información</b>\n",
    "    <p>\n",
    "       <a href=\"https://pyjanitor-devs.github.io/pyjanitor/api/functions/#janitor.functions.complete.complete\", class=\"alert-link\"><code>janitor.complete()</code></a> está modelada a partir de la función <a href=\"https://tidyr.tidyverse.org/reference/complete.html\", class=\"alert-link\"><code>complete()</code></a> del paquete <a href=\"https://tidyr.tidyverse.org/index.html\", class=\"alert-link\"><code>tidyr</code></a> y es un <i>wrapper</i> alrededor de <a href=\"https://pyjanitordevs.github.io/pyjanitor/api/functions/#janitor.functions.expand_grid.expand_grid\", class=\"alert-link\"><code>janitor.expand_grid()</code></a>, <a href=\"https://pandas.pydata.org/docs/reference/api/pandas.DataFrame.merge.html\", class=\"alert-link\"><code>pd.merge()</code></a> y <a href=\"https://pandas.pydata.org/docs/reference/api/pandas.DataFrame.merge.html\", class=\"alert-link\"><code>pd.fillna()</code></a>. En cierto modo, es lo contrario de <a href=\"https://pandas.pydata.org/docs/reference/api/pandas.DataFrame.dropna.html\", class=\"alert-link\"><code>pd.dropna()</code></a>, ya que expone implícitamente las filas que faltan.\n",
    "    </p>\n",
    "    <p>\n",
    "    Son posibles combinaciones de nombres de columnas o una lista/tupla de nombres de columnas, o incluso un  diccionario de nombres de columna y nuevos valores.\n",
    "    </p>\n",
    "    <p>\n",
    "    Las columnas <a href=\"https://pandas.pydata.org/docs/user_guide/advanced.html\"><code>MultiIndex</code></a> no son complatibles.\n",
    "    </p>\n",
    "</div>"
   ]
  },
  {
   "cell_type": "markdown",
   "metadata": {
    "cell_id": "9feb2ca918aa45bb8ee4a67b114fc3ef",
    "deepnote_app_coordinates": {
     "h": 5,
     "w": 12,
     "x": 0,
     "y": 0
    },
    "deepnote_cell_type": "markdown",
    "tags": []
   },
   "source": [
    "#### Exponer n-tuplas de valores faltantes\n",
    "\n",
    "Ejemplo, encontrar los pares faltantes de `name` y `time`."
   ]
  },
  {
   "cell_type": "code",
   "execution_count": null,
   "metadata": {
    "cell_id": "ea97ccb476c8491085b6f8ef4089899a",
    "deepnote_cell_type": "code",
    "deepnote_to_be_reexecuted": false,
    "execution_millis": 696,
    "execution_start": 1659559217748,
    "output_cleared": true,
    "source_hash": "963c2013",
    "tags": []
   },
   "outputs": [],
   "source": [
    "print(\"\\n--- Implicit to Explicit DataFrame ---\")\n",
    "print(\"This DataFrame has implicit missing values (NaN) in the 'value' column.\")\n",
    "print(implicit_to_explicit_df)\n",
    "\n",
    "print(\"\\n--- Pivoting with NaN values ---\")\n",
    "pivot_nan= (\n",
    "  implicit_to_explicit_df\n",
    "  .pivot_wider(\n",
    "    index='name',          # Datos que se usarán como índice en el nuevo DataFrame\n",
    "    names_from='time',     # Columnas del nuevo df\n",
    "    values_from='value',   # Valores que se usarán para llenar las celdas\n",
    "  )\n",
    ")\n",
    "print(pivot_nan)\n",
    "\n",
    "print(\"\\n--- Using complete to fill NaN values ---\")\n",
    "complete_nan = (\n",
    "  implicit_to_explicit_df\n",
    "  .complete(\n",
    "    'name',\n",
    "    'time'\n",
    "  )\n",
    ")\n",
    "print(complete_nan)"
   ]
  },
  {
   "cell_type": "markdown",
   "metadata": {
    "cell_id": "b5145b65318f4c97bb90b9f0320a6ce9",
    "deepnote_app_coordinates": {
     "h": 5,
     "w": 12,
     "x": 0,
     "y": 577
    },
    "deepnote_cell_type": "markdown",
    "tags": []
   },
   "source": [
    "#### Limitar la exposición de n-tuplas de valores faltantes"
   ]
  },
  {
   "cell_type": "code",
   "execution_count": null,
   "metadata": {
    "cell_id": "21ccea05b45f4836abd7ad6ad4224b69",
    "deepnote_cell_type": "code",
    "deepnote_to_be_reexecuted": false,
    "execution_millis": 685,
    "execution_start": 1659559217759,
    "output_cleared": true,
    "source_hash": "5bb4753e",
    "tags": []
   },
   "outputs": [],
   "source": [
    "(\n",
    "  implicit_to_explicit_df\n",
    "  .complete(\n",
    "    {'name':['lynn', 'zelda']},\n",
    "    {'time':['morning', 'afternoon']},\n",
    "    sort=True   \n",
    "  )\n",
    ")"
   ]
  },
  {
   "cell_type": "markdown",
   "metadata": {
    "cell_id": "a4fc6cc2201e4a4cb0fd7386ed8e7dfb",
    "deepnote_app_coordinates": {
     "h": 5,
     "w": 12,
     "x": 0,
     "y": 0
    },
    "deepnote_cell_type": "markdown",
    "tags": []
   },
   "source": [
    "#### Rellenar los valores faltantes"
   ]
  },
  {
   "cell_type": "code",
   "execution_count": null,
   "metadata": {
    "cell_id": "e276db69c12746268a04b1c7a24345e2",
    "deepnote_app_coordinates": {
     "h": 5,
     "w": 12,
     "x": 0,
     "y": 0
    },
    "deepnote_cell_type": "code",
    "deepnote_to_be_reexecuted": false,
    "execution_millis": 607,
    "execution_start": 1659559217838,
    "output_cleared": true,
    "source_hash": "4c53f6d1",
    "tags": []
   },
   "outputs": [],
   "source": []
  },
  {
   "cell_type": "markdown",
   "metadata": {
    "cell_id": "fde6911db2e14f499d2c5d35885b8145",
    "deepnote_app_coordinates": {
     "h": 5,
     "w": 12,
     "x": 0,
     "y": 589
    },
    "deepnote_cell_type": "markdown",
    "tags": []
   },
   "source": [
    "#### Limitar el rellenado de valores faltantes implícitos"
   ]
  },
  {
   "cell_type": "code",
   "execution_count": null,
   "metadata": {
    "cell_id": "972d74bebd4f4d07b07968856f967304",
    "deepnote_app_coordinates": {
     "h": 5,
     "w": 12,
     "x": 0,
     "y": 595
    },
    "deepnote_cell_type": "code",
    "deepnote_to_be_reexecuted": false,
    "execution_millis": 548,
    "execution_start": 1659559217897,
    "output_cleared": true,
    "source_hash": "3c2f05e0",
    "tags": []
   },
   "outputs": [],
   "source": []
  },
  {
   "cell_type": "markdown",
   "metadata": {
    "cell_id": "9fe6b2121f4c412db91beeab035c0e01",
    "deepnote_app_coordinates": {
     "h": 5,
     "w": 12,
     "x": 0,
     "y": 601
    },
    "deepnote_cell_type": "markdown",
    "tags": []
   },
   "source": [
    "## Tipos de valores faltantes"
   ]
  },
  {
   "cell_type": "code",
   "execution_count": null,
   "metadata": {
    "cell_id": "853756cec4d04e24ab36c514aabe1388",
    "deepnote_app_coordinates": {
     "h": 5,
     "w": 12,
     "x": 0,
     "y": 0
    },
    "deepnote_cell_type": "code",
    "deepnote_to_be_reexecuted": false,
    "execution_millis": 510,
    "execution_start": 1659559217945,
    "output_cleared": true,
    "source_hash": "f244bbee",
    "tags": []
   },
   "outputs": [],
   "source": [
    "# diabetes_df.missing.missing_variable_plot()"
   ]
  },
  {
   "cell_type": "code",
   "execution_count": null,
   "metadata": {
    "cell_id": "6cb4ffa5fe0e4da4a2fb25a4002d5769",
    "deepnote_app_coordinates": {
     "h": 5,
     "w": 12,
     "x": 0,
     "y": 0
    },
    "deepnote_cell_type": "code",
    "deepnote_to_be_reexecuted": false,
    "execution_millis": 313,
    "execution_start": 1659559218333,
    "output_cleared": true,
    "source_hash": "a9357d40",
    "tags": []
   },
   "outputs": [],
   "source": [
    "diabetes_df[diabetes_df.columns[1:6]] = diabetes_df[diabetes_df.columns[1:6]].replace(0, np.nan)\n",
    "diabetes_df.missing.missing_variable_plot()"
   ]
  },
  {
   "cell_type": "markdown",
   "metadata": {
    "cell_id": "5ce5fc2c9cf14f129b86fafe2d1cb9a9",
    "deepnote_app_coordinates": {
     "h": 5,
     "w": 12,
     "x": 0,
     "y": 607
    },
    "deepnote_cell_type": "markdown",
    "tags": []
   },
   "source": [
    "### _Missing Completely At Random_ (MCAR)"
   ]
  },
  {
   "cell_type": "code",
   "execution_count": null,
   "metadata": {
    "cell_id": "f87e43606272494597d0637500985710",
    "deepnote_app_coordinates": {
     "h": 5,
     "w": 12,
     "x": 0,
     "y": 0
    },
    "deepnote_cell_type": "code",
    "deepnote_to_be_reexecuted": false,
    "execution_millis": 520,
    "execution_start": 1659559218651,
    "output_cleared": true,
    "source_hash": "aac828f9",
    "tags": []
   },
   "outputs": [],
   "source": [
    "(\n",
    "    diabetes_df\n",
    "    .missing.sort_variables_by_missingness()\n",
    "    .pipe(missingno.matrix)\n",
    ")"
   ]
  },
  {
   "cell_type": "markdown",
   "metadata": {
    "cell_id": "412415e26b054eb88c4f335501252856",
    "deepnote_app_coordinates": {
     "h": 5,
     "w": 12,
     "x": 0,
     "y": 0
    },
    "deepnote_cell_type": "markdown",
    "tags": []
   },
   "source": [
    "### _Missing At Random_ (MAR)"
   ]
  },
  {
   "cell_type": "code",
   "execution_count": null,
   "metadata": {
    "cell_id": "4944602ac3584374aa8dfe6aa1a31389",
    "deepnote_app_coordinates": {
     "h": 5,
     "w": 12,
     "x": 0,
     "y": 0
    },
    "deepnote_cell_type": "code",
    "deepnote_to_be_reexecuted": false,
    "execution_millis": 511,
    "execution_start": 1659559219170,
    "output_cleared": true,
    "source_hash": "be0dbfe7",
    "tags": []
   },
   "outputs": [],
   "source": [
    "(\n",
    "    diabetes_df\n",
    "    .missing.sort_variables_by_missingness()\n",
    "    .sort_values(by='blood_pressure')\n",
    "    .pipe(missingno.matrix)\n",
    ")"
   ]
  },
  {
   "cell_type": "markdown",
   "metadata": {
    "cell_id": "3b5b161c8144497bbff282e45cbe99fd",
    "deepnote_app_coordinates": {
     "h": 5,
     "w": 12,
     "x": 0,
     "y": 0
    },
    "deepnote_cell_type": "markdown",
    "tags": []
   },
   "source": [
    "### _Missing Not At Random_ (MNAR)"
   ]
  },
  {
   "cell_type": "code",
   "execution_count": null,
   "metadata": {
    "cell_id": "b95f58f589bf41a18130f9b72415138e",
    "deepnote_app_coordinates": {
     "h": 5,
     "w": 12,
     "x": 0,
     "y": 0
    },
    "deepnote_cell_type": "code",
    "deepnote_to_be_reexecuted": false,
    "execution_millis": 531,
    "execution_start": 1659559219683,
    "output_cleared": true,
    "source_hash": "d1753aa3",
    "tags": []
   },
   "outputs": [],
   "source": [
    "(\n",
    "    diabetes_df\n",
    "    .missing.sort_variables_by_missingness()\n",
    "    .sort_values(by='insulin')\n",
    "    .pipe(missingno.matrix)\n",
    ")"
   ]
  },
  {
   "cell_type": "markdown",
   "metadata": {},
   "source": [
    "Video a ver: [Mecanismos de datos faltantes de YouTube](https://www.youtube.com/watch?v=ARwHkq4t2q0)"
   ]
  },
  {
   "cell_type": "markdown",
   "metadata": {
    "cell_id": "c61b0f1d1656456fb5537bd491e781f0",
    "deepnote_app_coordinates": {
     "h": 5,
     "w": 12,
     "x": 0,
     "y": 613
    },
    "deepnote_cell_type": "markdown",
    "tags": []
   },
   "source": [
    "## Concepto y aplicación de la matriz de sombras (_i.e._, _shadow matrix_)"
   ]
  },
  {
   "cell_type": "markdown",
   "metadata": {
    "cell_id": "c52d8de41f074be89b32f7046aeae112",
    "deepnote_app_coordinates": {
     "h": 5,
     "w": 12,
     "x": 0,
     "y": 619
    },
    "deepnote_cell_type": "markdown",
    "tags": []
   },
   "source": [
    " ### Construcción de la matriz de sombras"
   ]
  },
  {
   "cell_type": "code",
   "execution_count": null,
   "metadata": {},
   "outputs": [],
   "source": [
    "riskfactors_df"
   ]
  },
  {
   "cell_type": "code",
   "execution_count": null,
   "metadata": {},
   "outputs": [],
   "source": [
    "(\n",
    "    riskfactors_df\n",
    "    .isna()\n",
    "    .replace({\n",
    "        False: 'Not missing',\n",
    "        True: 'Missing'\n",
    "    })\n",
    "    .add_suffix('_NA')\n",
    "    .pipe(\n",
    "        lambda shadow_matrix: pd.concat(\n",
    "            [riskfactors_df, shadow_matrix],\n",
    "            axis='columns'\n",
    "        )\n",
    "    )\n",
    ")"
   ]
  },
  {
   "cell_type": "code",
   "execution_count": null,
   "metadata": {},
   "outputs": [],
   "source": [
    "(\n",
    "  riskfactors_df\n",
    "  .missing\n",
    "  .bind_shadow_matrix(only_missing = True)\n",
    "  .groupby([\"weight_lbs_NA\"])[\"age\"]\n",
    "  .describe()\n",
    "  .reset_index()\n",
    ")"
   ]
  },
  {
   "cell_type": "code",
   "execution_count": null,
   "metadata": {},
   "outputs": [],
   "source": [
    "(\n",
    "    riskfactors_df\n",
    "    .missing.bind_shadow_matrix(only_missing=True)\n",
    "    .pipe(\n",
    "      lambda df : (\n",
    "        sns.boxenplot(\n",
    "          data = df,\n",
    "          x = 'weight_lbs_NA',\n",
    "          y = 'age'\n",
    "        )\n",
    "      )\n",
    "    )\n",
    ")"
   ]
  },
  {
   "cell_type": "markdown",
   "metadata": {},
   "source": [
    "_Utilizar función de utilería 'bind_shadow_matrix()'_"
   ]
  },
  {
   "cell_type": "code",
   "execution_count": null,
   "metadata": {},
   "outputs": [],
   "source": [
    "(\n",
    "    riskfactors_df\n",
    "    .missing\n",
    "    .bind_shadow_matrix(only_missing=True)\n",
    ")"
   ]
  },
  {
   "cell_type": "markdown",
   "metadata": {},
   "source": [
    "_Exploracion estadísticos usando nuevas columnas de matriz de sombras_"
   ]
  },
  {
   "cell_type": "code",
   "execution_count": null,
   "metadata": {},
   "outputs": [],
   "source": [
    "(\n",
    "    riskfactors_df\n",
    "    .missing\n",
    "    .bind_shadow_matrix(only_missing=True)\n",
    ")"
   ]
  },
  {
   "cell_type": "markdown",
   "metadata": {},
   "source": [
    "_Visualización de valores faltantes en una variable_"
   ]
  },
  {
   "cell_type": "code",
   "execution_count": null,
   "metadata": {},
   "outputs": [],
   "source": [
    "(\n",
    "    riskfactors_df\n",
    "    .missing.bind_shadow_matrix(only_missing=True)\n",
    "    .pipe(\n",
    "        lambda df : (\n",
    "            sns.boxenplot(\n",
    "                data=df,\n",
    "                x='weight_lbs_NA',\n",
    "                y='age'\n",
    "            )\n",
    "        )\n",
    "    )\n",
    ")"
   ]
  },
  {
   "cell_type": "code",
   "execution_count": null,
   "metadata": {},
   "outputs": [],
   "source": [
    "(    \n",
    "\triskfactors_df    \n",
    "\t.missing    \n",
    "\t.bind_shadow_matrix(only_missing=True)    \n",
    "\t.pipe(        \n",
    "\t\tlambda df:(           \n",
    "\t\t\tsns.displot(                \n",
    "\t\t\t\tdata = df,                \n",
    "\t\t\t\tx = 'age',                \n",
    "\t\t\t\tkind = 'kde',                \n",
    "\t\t\t\thue = 'pregnant_NA',  \n",
    "\t\t\t\tfill = True\n",
    "\t\t\t)            \n",
    "\t\t)    \n",
    "\t)\n",
    ")"
   ]
  },
  {
   "cell_type": "markdown",
   "metadata": {},
   "source": [
    "_Shadow matrix_"
   ]
  },
  {
   "cell_type": "code",
   "execution_count": null,
   "metadata": {},
   "outputs": [],
   "source": [
    "(    \n",
    "\triskfactors_df    \n",
    "\t.missing    \n",
    "\t.bind_shadow_matrix(only_missing=True)    \n",
    "\t.pipe(        \n",
    "\t\tlambda df:(           \n",
    "\t\t\tsns.displot(                \n",
    "\t\t\t\tdata = df,                \n",
    "\t\t\t\tx = 'age',                \n",
    "\t\t\t\tcol = 'weight_lbs_NA'\n",
    "\t\t\t)            \n",
    "\t\t)    \n",
    "\t)\n",
    ")"
   ]
  },
  {
   "cell_type": "code",
   "execution_count": null,
   "metadata": {},
   "outputs": [],
   "source": [
    "(    \n",
    "\triskfactors_df    \n",
    "\t.missing    \n",
    "\t.bind_shadow_matrix(only_missing=True)    \n",
    "\t.pipe(        \n",
    "\t\tlambda df:(           \n",
    "\t\t\tsns.displot(                \n",
    "\t\t\t\tdata = df,                \n",
    "\t\t\t\tx = 'age',                \n",
    "\t\t\t\tcol = 'pregnant_NA',\n",
    "                facet_kws={\n",
    "                    'sharey': False\n",
    "                }\n",
    "\t\t\t)\n",
    "\t\t)\n",
    "\t)\n",
    ")"
   ]
  },
  {
   "cell_type": "code",
   "execution_count": null,
   "metadata": {},
   "outputs": [],
   "source": [
    "(    \n",
    "\triskfactors_df    \n",
    "\t.missing    \n",
    "\t.bind_shadow_matrix(only_missing=True)    \n",
    "\t.pipe(        \n",
    "\t\tlambda df:(           \n",
    "\t\t\tsns.displot(                \n",
    "\t\t\t\tdata = df,                \n",
    "\t\t\t\tx = 'age',                \n",
    "                col = 'marital_NA',\n",
    "                row = 'weight_lbs_NA'\n",
    "\t\t\t)\n",
    "\t\t)\n",
    "\t)\n",
    ")"
   ]
  },
  {
   "cell_type": "markdown",
   "metadata": {
    "cell_id": "ccaa1825717b44079d35574a2f111d74",
    "deepnote_app_coordinates": {
     "h": 5,
     "w": 12,
     "x": 0,
     "y": 0
    },
    "deepnote_cell_type": "markdown",
    "tags": []
   },
   "source": [
    "## Visualización de valores faltantes en dos variables"
   ]
  },
  {
   "cell_type": "code",
   "execution_count": null,
   "metadata": {},
   "outputs": [],
   "source": [
    "def column_fill_with_dummies(\n",
    "    column: pd.Series,\n",
    "    proportion_below: float = 0.10,  # % del mínimo real para desplazar el piso de dummies\n",
    "    jitter: float = 0.075,            # fracción del rango para dispersar los dummies\n",
    "    seed: int = 42                    # semilla para reproducibilidad del ruido\n",
    ") -> pd.Series:\n",
    "    \"\"\"\n",
    "    Reemplaza los NaN de una serie por puntos 'dummy' numéricos justo por debajo\n",
    "    del mínimo real, con un pequeño jitter para evitar solapamientos en la gráfica.\n",
    "\n",
    "    Args:\n",
    "        column (pd.Series): Serie original con posibles NaN.\n",
    "        proportion_below (float): Fracción del mínimo real para calcular el piso.\n",
    "        jitter (float): Fracción del rango para crear dispersión aleatoria.\n",
    "        seed (int): Semilla para el generador de números aleatorios.\n",
    "\n",
    "    Returns:\n",
    "        pd.Series: Nueva serie con los NaN sustituidos por dummies numéricos.\n",
    "    \"\"\"\n",
    "\n",
    "    # 1) Crear copia profunda para no alterar la serie original\n",
    "    column = column.copy(deep=True)\n",
    "\n",
    "    # 2) Identificar posiciones con NaN\n",
    "    missing_mask = column.isna()           # Serie booleana: True donde había NaN\n",
    "    number_missing_values = missing_mask.sum()  # Cantidad total de NaN\n",
    "\n",
    "    # 3) Calcular rango auténtico de la serie (max – min)\n",
    "    real_min = column.min()                # Mínimo real (sin NaN)\n",
    "    real_max = column.max()                # Máximo real\n",
    "    column_range = real_max - real_min     # Diferencia para escalar el jitter\n",
    "\n",
    "    # 4) Definir 'piso' de dummies: un poco por debajo del mínimo real\n",
    "    #    Ejemplo: con proportion_below=0.10, shift = real_min – 10%·real_min\n",
    "    column_shift = real_min - (real_min * proportion_below)\n",
    "\n",
    "    # 5) Generar ruido (jitter) para cada dummy\n",
    "    #    - np.random.seed fija la semilla para reproducibilidad\n",
    "    #    - np.random.rand(n) crea n valores en [0,1)\n",
    "    #    - restar 2 pasa esos valores a [-2, -1) ⇒ desplazamiento negativo garantizado\n",
    "    #    - multiplicar por column_range * jitter ajusta la magnitud del ruido\n",
    "    np.random.seed(seed)\n",
    "    column_jitter = (np.random.rand(number_missing_values) - 2) * column_range * jitter\n",
    "\n",
    "    # 6) Asignar a cada posición NaN un valor dummy = piso + su jitter correspondiente\n",
    "    column[missing_mask] = column_shift + column_jitter\n",
    "\n",
    "    # 7) Devolver la serie modificada (mismos índices, dummies en reemplazo de NaN)\n",
    "    return column\n"
   ]
  },
  {
   "cell_type": "code",
   "execution_count": null,
   "metadata": {
    "cell_id": "28632903b4d34098b98427ba162be04d",
    "deepnote_app_coordinates": {
     "h": 5,
     "w": 12,
     "x": 0,
     "y": 0
    },
    "deepnote_cell_type": "code",
    "deepnote_to_be_reexecuted": false,
    "execution_millis": 555,
    "execution_start": 1659559223547,
    "output_cleared": true,
    "source_hash": "fab7888",
    "tags": []
   },
   "outputs": [],
   "source": []
  },
  {
   "cell_type": "markdown",
   "metadata": {
    "cell_id": "46596e4b15284ff1a725d18dc0763146",
    "deepnote_app_coordinates": {
     "h": 5,
     "w": 12,
     "x": 0,
     "y": 0
    },
    "deepnote_cell_type": "markdown",
    "tags": []
   },
   "source": [
    "## Correlación de nulidad"
   ]
  },
  {
   "cell_type": "code",
   "execution_count": null,
   "metadata": {
    "cell_id": "751975d1906e4246b50de71217cf79c8",
    "deepnote_cell_type": "code",
    "deepnote_to_be_reexecuted": false,
    "execution_millis": 2899,
    "execution_start": 1659559223975,
    "output_cleared": true,
    "source_hash": "f72e29cc",
    "tags": []
   },
   "outputs": [],
   "source": []
  },
  {
   "cell_type": "code",
   "execution_count": null,
   "metadata": {
    "cell_id": "a5d206e6b8814ef4b4484e60e3c31f36",
    "deepnote_app_coordinates": {
     "h": 5,
     "w": 12,
     "x": 0,
     "y": 0
    },
    "deepnote_cell_type": "code",
    "deepnote_to_be_reexecuted": false,
    "execution_millis": 642,
    "execution_start": 1659559226250,
    "output_cleared": true,
    "source_hash": "a97e7722",
    "tags": []
   },
   "outputs": [],
   "source": []
  },
  {
   "cell_type": "markdown",
   "metadata": {
    "cell_id": "ce2f407d1ae645e48082d5168639ec4d",
    "deepnote_app_coordinates": {
     "h": 5,
     "w": 12,
     "x": 0,
     "y": 0
    },
    "deepnote_cell_type": "markdown",
    "tags": []
   },
   "source": [
    "## Eliminación de valores faltantes"
   ]
  },
  {
   "cell_type": "markdown",
   "metadata": {
    "cell_id": "c882fcf6fd624a8b9a6220ac9f86d046",
    "deepnote_app_coordinates": {
     "h": 5,
     "w": 12,
     "x": 0,
     "y": 0
    },
    "deepnote_cell_type": "markdown",
    "tags": []
   },
   "source": [
    "<div class=\"alert alert-warning\", role=\"alert\">\n",
    "    <b style=\"font-size: 1.5em;\">🚧 Advertencia</b>\n",
    "    <p>\n",
    "    La eliminación de valores faltantes <b>asume</b> que los valores faltantes están perdidos\n",
    "    completamente al azar (<code>MCAR</code>). En cualquier otro caso, realizar una\n",
    "    eliminación de valores faltantes podrá ocasionar <b>sesgos</b> en los\n",
    "    análisis y modelos subsecuentes.\n",
    "    </p>\n",
    "</div>"
   ]
  },
  {
   "cell_type": "markdown",
   "metadata": {
    "cell_id": "0b38263c1ba44449aa7711b5b2960653",
    "deepnote_app_coordinates": {
     "h": 5,
     "w": 12,
     "x": 0,
     "y": 0
    },
    "deepnote_cell_type": "markdown",
    "tags": []
   },
   "source": [
    "Primero observa el número total de observaciones y variables que tiene tu conjunto de datos."
   ]
  },
  {
   "cell_type": "code",
   "execution_count": null,
   "metadata": {
    "cell_id": "e1cf2087dce9461b853e6915820de346",
    "deepnote_app_coordinates": {
     "h": 5,
     "w": 12,
     "x": 0,
     "y": 0
    },
    "deepnote_cell_type": "code",
    "deepnote_to_be_reexecuted": false,
    "execution_millis": 7,
    "execution_start": 1659559226895,
    "output_cleared": true,
    "source_hash": "f161de07",
    "tags": []
   },
   "outputs": [],
   "source": []
  },
  {
   "cell_type": "markdown",
   "metadata": {
    "cell_id": "71248fcd23a14cc2aa59cedc85d06961",
    "deepnote_app_coordinates": {
     "h": 5,
     "w": 12,
     "x": 0,
     "y": 0
    },
    "deepnote_cell_type": "markdown",
    "tags": []
   },
   "source": [
    "### _Pairwise deletion_ (eliminación por pares)"
   ]
  },
  {
   "cell_type": "code",
   "execution_count": null,
   "metadata": {
    "cell_id": "27f94290bffa4703a7e5c7a1142d8bd6",
    "deepnote_app_coordinates": {
     "h": 5,
     "w": 12,
     "x": 0,
     "y": 0
    },
    "deepnote_cell_type": "code",
    "deepnote_to_be_reexecuted": false,
    "execution_millis": 2,
    "execution_start": 1659559226905,
    "output_cleared": true,
    "source_hash": "12e9c2f1",
    "tags": []
   },
   "outputs": [],
   "source": []
  },
  {
   "cell_type": "code",
   "execution_count": null,
   "metadata": {
    "cell_id": "7abfaebd304b4caca7cf8ccc19925360",
    "deepnote_app_coordinates": {
     "h": 5,
     "w": 12,
     "x": 0,
     "y": 0
    },
    "deepnote_cell_type": "code",
    "deepnote_to_be_reexecuted": false,
    "execution_millis": 29,
    "execution_start": 1659559226920,
    "output_cleared": true,
    "source_hash": "9ea257dd",
    "tags": []
   },
   "outputs": [],
   "source": []
  },
  {
   "cell_type": "code",
   "execution_count": null,
   "metadata": {
    "cell_id": "3723c8618c7748d3bdeac99bf18d6513",
    "deepnote_app_coordinates": {
     "h": 5,
     "w": 12,
     "x": 0,
     "y": 0
    },
    "deepnote_cell_type": "code",
    "deepnote_to_be_reexecuted": false,
    "execution_millis": 4,
    "execution_start": 1659559226931,
    "output_cleared": true,
    "source_hash": "6a99d1e",
    "tags": []
   },
   "outputs": [],
   "source": []
  },
  {
   "cell_type": "markdown",
   "metadata": {
    "cell_id": "fc9e1bf84cf44601862a5b1ee5c3d8bb",
    "deepnote_app_coordinates": {
     "h": 5,
     "w": 12,
     "x": 0,
     "y": 0
    },
    "deepnote_cell_type": "markdown",
    "tags": []
   },
   "source": [
    "### _Listwise Deletion or Complete Case_ (Eliminación por lista o caso completo)"
   ]
  },
  {
   "cell_type": "markdown",
   "metadata": {
    "cell_id": "dbe24d2077a24242bf18e44d34448c19",
    "deepnote_app_coordinates": {
     "h": 5,
     "w": 12,
     "x": 0,
     "y": 0
    },
    "deepnote_cell_type": "markdown",
    "tags": []
   },
   "source": [
    "#### Con base en 1 columna"
   ]
  },
  {
   "cell_type": "code",
   "execution_count": null,
   "metadata": {
    "cell_id": "042931c6c02048c69cc7775ec183da66",
    "deepnote_cell_type": "code",
    "deepnote_to_be_reexecuted": false,
    "execution_millis": 5,
    "execution_start": 1659559226973,
    "output_cleared": true,
    "source_hash": "d374f2a1",
    "tags": []
   },
   "outputs": [],
   "source": []
  },
  {
   "cell_type": "markdown",
   "metadata": {
    "cell_id": "d60c196c14594856bf41230118632f36",
    "deepnote_app_coordinates": {
     "h": 5,
     "w": 12,
     "x": 0,
     "y": 0
    },
    "deepnote_cell_type": "markdown",
    "tags": []
   },
   "source": [
    "#### Con base en 2 o más columnas"
   ]
  },
  {
   "cell_type": "code",
   "execution_count": null,
   "metadata": {
    "cell_id": "4ad29f01ed5d4658945287af43289f1c",
    "deepnote_cell_type": "code",
    "deepnote_to_be_reexecuted": false,
    "execution_millis": 4,
    "execution_start": 1659559226974,
    "output_cleared": true,
    "source_hash": "18a20483",
    "tags": []
   },
   "outputs": [],
   "source": []
  },
  {
   "cell_type": "code",
   "execution_count": null,
   "metadata": {
    "cell_id": "bdf2a346776a4c0f8adb5632a3702f28",
    "deepnote_app_coordinates": {
     "h": 5,
     "w": 12,
     "x": 0,
     "y": 0
    },
    "deepnote_cell_type": "code",
    "deepnote_to_be_reexecuted": false,
    "execution_millis": 7,
    "execution_start": 1659559226975,
    "output_cleared": true,
    "source_hash": "2565eb7",
    "tags": []
   },
   "outputs": [],
   "source": []
  },
  {
   "cell_type": "markdown",
   "metadata": {
    "cell_id": "1bf730599def45dba870c846c6cb1a7a",
    "deepnote_app_coordinates": {
     "h": 5,
     "w": 12,
     "x": 0,
     "y": 0
    },
    "deepnote_cell_type": "markdown",
    "tags": []
   },
   "source": [
    "### Representación gráfica tras la eliminación de los valores faltantes"
   ]
  },
  {
   "cell_type": "code",
   "execution_count": null,
   "metadata": {
    "cell_id": "ca88f511e83248a3ab3e730ca414edb0",
    "deepnote_app_coordinates": {
     "h": 5,
     "w": 12,
     "x": 0,
     "y": 0
    },
    "deepnote_cell_type": "code",
    "deepnote_to_be_reexecuted": false,
    "execution_millis": 382,
    "execution_start": 1659559226983,
    "output_cleared": true,
    "source_hash": "7f5e7427",
    "tags": []
   },
   "outputs": [],
   "source": []
  },
  {
   "cell_type": "code",
   "execution_count": null,
   "metadata": {
    "cell_id": "5d6c1e6ebff34868b92953c970d1b0c2",
    "deepnote_app_coordinates": {
     "h": 5,
     "w": 12,
     "x": 0,
     "y": 0
    },
    "deepnote_cell_type": "code",
    "deepnote_to_be_reexecuted": false,
    "execution_millis": 431,
    "execution_start": 1659559227374,
    "output_cleared": true,
    "source_hash": "471b0389",
    "tags": []
   },
   "outputs": [],
   "source": []
  },
  {
   "cell_type": "markdown",
   "metadata": {
    "cell_id": "6f391b0775954e6691ee43defe886531",
    "deepnote_app_coordinates": {
     "h": 5,
     "w": 12,
     "x": 0,
     "y": 0
    },
    "deepnote_cell_type": "markdown",
    "tags": []
   },
   "source": [
    "## Imputación básica de valores faltantes"
   ]
  },
  {
   "cell_type": "markdown",
   "metadata": {
    "cell_id": "a6085d2c93f54c20b1dd2177e16eb208",
    "deepnote_app_coordinates": {
     "h": 5,
     "w": 12,
     "x": 0,
     "y": 0
    },
    "deepnote_cell_type": "markdown",
    "tags": []
   },
   "source": [
    "### Imputación con base en el contexto"
   ]
  },
  {
   "cell_type": "code",
   "execution_count": null,
   "metadata": {
    "cell_id": "b504b00ff66f44549050212ab29d6b63",
    "deepnote_app_coordinates": {
     "h": 5,
     "w": 12,
     "x": 0,
     "y": 0
    },
    "deepnote_cell_type": "code",
    "deepnote_to_be_reexecuted": false,
    "execution_millis": 0,
    "execution_start": 1659559664019,
    "output_cleared": true,
    "source_hash": "b688ade5",
    "tags": []
   },
   "outputs": [],
   "source": [
    "implicit_to_explicit_df = pd.DataFrame(\n",
    "    data={\n",
    "        \"name\": [\"lynn\", np.nan, \"zelda\", np.nan, \"shadowsong\", np.nan],\n",
    "        \"time\": [\"morning\", \"afternoon\", \"morning\", \"afternoon\", \"morning\", \"afternoon\",],\n",
    "        \"value\": [350, 310, 320, 350, 310, 320]\n",
    "    }\n",
    ")\n",
    "\n",
    "implicit_to_explicit_df"
   ]
  },
  {
   "cell_type": "code",
   "execution_count": null,
   "metadata": {
    "cell_id": "887295f7ef094524863624720c6d9b83",
    "deepnote_cell_type": "code",
    "deepnote_to_be_reexecuted": false,
    "execution_millis": 73,
    "execution_start": 1659559765348,
    "output_cleared": true,
    "source_hash": "684872d1",
    "tags": []
   },
   "outputs": [],
   "source": []
  },
  {
   "cell_type": "markdown",
   "metadata": {
    "cell_id": "b80f2ebad24e416aa07ef141b3830218",
    "deepnote_app_coordinates": {
     "h": 5,
     "w": 12,
     "x": 0,
     "y": 0
    },
    "deepnote_cell_type": "markdown",
    "tags": []
   },
   "source": [
    "### Imputación de un único valor"
   ]
  },
  {
   "cell_type": "code",
   "execution_count": null,
   "metadata": {
    "cell_id": "4528ea5606884c968f916b84cb5f4270",
    "deepnote_app_coordinates": {
     "h": 5,
     "w": 12,
     "x": 0,
     "y": 0
    },
    "deepnote_cell_type": "code",
    "deepnote_to_be_reexecuted": false,
    "execution_millis": 866,
    "execution_start": 1659559989174,
    "output_cleared": true,
    "source_hash": "f8a38757",
    "tags": []
   },
   "outputs": [],
   "source": []
  },
  {
   "cell_type": "code",
   "execution_count": null,
   "metadata": {
    "cell_id": "84a4c0915be84867968b5e747dbe06bd",
    "deepnote_app_coordinates": {
     "h": 5,
     "w": 12,
     "x": 0,
     "y": 0
    },
    "deepnote_cell_type": "code",
    "deepnote_to_be_reexecuted": false,
    "execution_millis": 397,
    "execution_start": 1659560335114,
    "output_cleared": true,
    "source_hash": "e565f12",
    "tags": []
   },
   "outputs": [],
   "source": []
  },
  {
   "cell_type": "code",
   "execution_count": null,
   "metadata": {
    "cell_id": "5b168cc0eb73462aa442159b9714510b",
    "deepnote_app_coordinates": {
     "h": 5,
     "w": 12,
     "x": 0,
     "y": 0
    },
    "deepnote_cell_type": "code",
    "deepnote_to_be_reexecuted": false,
    "execution_millis": 1758,
    "execution_start": 1659561288702,
    "output_cleared": true,
    "source_hash": "8176e865",
    "tags": []
   },
   "outputs": [],
   "source": []
  },
  {
   "cell_type": "markdown",
   "metadata": {
    "cell_id": "3ab8e4ddc9314a5c974b523bab679331",
    "deepnote_app_coordinates": {
     "h": 5,
     "w": 12,
     "x": 0,
     "y": 0
    },
    "deepnote_cell_type": "markdown",
    "tags": []
   },
   "source": [
    "## Continúa aprendiendo sobre el manejo de valores faltantes"
   ]
  },
  {
   "cell_type": "markdown",
   "metadata": {
    "cell_id": "622c3131691b4916ab6aa48ba20a4605",
    "deepnote_app_coordinates": {
     "h": 5,
     "w": 12,
     "x": 0,
     "y": 0
    },
    "deepnote_cell_type": "markdown",
    "tags": []
   },
   "source": [
    "<div class=\"alert alert-success\">\n",
    "    <b style=\"font-size: 1.5em;\">✅ ¡Felicidades por terminar el curso!</b>\n",
    "    <p>\n",
    "Has aprendido bastante sobre la exploración y manipulación de valores faltantes.\n",
    "    </p>\n",
    "    <p>\n",
    "Empezaste conociento las principales operaciones al trabajar con valores faltantes. Ahora, eres consciente de que estas operaciones no son universales y cada software decide tratar a los valores faltantes a su conveniencia.\n",
    "    </p>\n",
    "    <p>\n",
    "Y, hablando de conveniencias, comenzaste tu camino en la exploración de valores faltantes a través de una representación universal de qué es lo que faltaba. No obstante, no pasó mucho para darte cuenta de que los valores faltantes pueden existir en formas muy variables. Incluso, en formas en las que no sabemos que nos faltan estos valores en sí mismos. \n",
    "    </p>\n",
    "    <p>\n",
    "Con los valores faltantes ya expuestos, te conviertes en una persona capaz de explorarlos en profundidad de forma estadística y visual. Entendiendo así, los distintos mecanismos que pueden tener los valores faltantes: MCAR, MAR y MNAR.\n",
    "    </p>\n",
    "    <p>\n",
    "A su vez, aprendiste las bases sobre cómo tratarlos a través de la eliminación de elementos o la imputación de valores de una forma básica y sencilla. Por lo tanto, necesitarás continuar tu camino de aprendizaje con un curso que te permita profundizar en estas técnicas de tratamiento para valores faltantes.\n",
    "    </p>\n",
    "    <p>\n",
    "Te recomiendo continuar con mi <a href=\"https://platzi.com/cursos/datos-faltantes-imputacion/\">Curso de Manejo de Datos Faltantes: Imputación</a>. Estoy seguro de que tus habilidades adquiridas hasta el momento mejorarán, permitiéndote realizar análisis cada vez más complejos y cercanos al mundo real.\n",
    "    </p>\n",
    "    <p>\n",
    "    Con mucha alegría por tu logro,\n",
    "   Jesús Vélez Santiago\n",
    "    </p>\n",
    "    \n",
    "</div>"
   ]
  },
  {
   "cell_type": "markdown",
   "metadata": {
    "cell_id": "014c22420a8b4de4afa8375a2707039b",
    "deepnote_app_coordinates": {
     "h": 5,
     "w": 12,
     "x": 0,
     "y": 649
    },
    "deepnote_cell_type": "markdown",
    "tags": []
   },
   "source": [
    "## Información de sesión"
   ]
  },
  {
   "cell_type": "code",
   "execution_count": null,
   "metadata": {
    "cell_id": "98f8b4de58d84a5ea6f97210adfef5a6",
    "deepnote_app_coordinates": {
     "h": 5,
     "w": 12,
     "x": 0,
     "y": 655
    },
    "deepnote_cell_type": "code",
    "deepnote_to_be_reexecuted": false,
    "execution_millis": 416,
    "execution_start": 1659215529131,
    "output_cleared": true,
    "source_hash": "e8587130",
    "tags": []
   },
   "outputs": [],
   "source": [
    "session_info.show()"
   ]
  },
  {
   "cell_type": "markdown",
   "metadata": {
    "created_in_deepnote_cell": true,
    "deepnote_cell_type": "markdown",
    "tags": []
   },
   "source": [
    "<a style='text-decoration:none;line-height:16px;display:flex;color:#5B5B62;padding:10px;justify-content:end;' href='https://deepnote.com?utm_source=created-in-deepnote-cell&projectId=694a3d08-7f18-421d-9e2f-c2820a79680e' target=\"_blank\">\n",
    "<img alt='Created in deepnote.com' style='display:inline;max-height:16px;margin:0px;margin-right:7.5px;' src='data:image/svg+xml;base64,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' > </img>\n",
    "Created in <span style='font-weight:600;margin-left:4px;'>Deepnote</span></a>"
   ]
  }
 ],
 "metadata": {
  "deepnote": {},
  "deepnote_app_layout": "article",
  "deepnote_execution_queue": [],
  "deepnote_notebook_id": "42154722e2624d31afecdde77e512199",
  "kernelspec": {
   "display_name": "datos_faltantes",
   "language": "python",
   "name": "python3"
  },
  "language_info": {
   "codemirror_mode": {
    "name": "ipython",
    "version": 3
   },
   "file_extension": ".py",
   "mimetype": "text/x-python",
   "name": "python",
   "nbconvert_exporter": "python",
   "pygments_lexer": "ipython3",
   "version": "3.9.23"
  }
 },
 "nbformat": 4,
 "nbformat_minor": 4
}
